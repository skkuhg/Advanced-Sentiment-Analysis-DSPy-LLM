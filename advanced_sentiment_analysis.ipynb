{
 "cells": [
  {
   "cell_type": "markdown",
   "id": "04e1f827",
   "metadata": {},
   "source": [
    "# 🚀 Advanced Sentiment Analysis System with DSPy Framework\n",
    "\n",
    "## 🎯 Overview\n",
    "This notebook implements a sophisticated, multi-dimensional sentiment analysis system using:\n",
    "- **DSPy Framework**: Declarative language programming for LLM integration\n",
    "- **OpenAI GPT-4o-mini**: Advanced language model for nuanced analysis\n",
    "- **Security-First Design**: Environment-based API key management\n",
    "- **Production-Ready**: Comprehensive logging, monitoring, and error handling\n",
    "\n",
    "## 🔧 Features\n",
    "- **Multi-dimensional Analysis**: Primary sentiment, emotions, confidence scoring\n",
    "- **Business Intelligence**: Urgency detection, toxicity analysis, aspect-based sentiment\n",
    "- **Automated Responses**: Context-aware customer service reply generation\n",
    "- **Performance Optimization**: Batch processing, caching, parallel execution\n",
    "- **Visualization Suite**: Interactive charts and business dashboards\n",
    "- **Security & Compliance**: Environment variables, input validation, rate limiting\n",
    "\n",
    "## 📋 Prerequisites\n",
    "- Python 3.8+\n",
    "- OpenAI API Key\n",
    "- Required packages: dspy-ai, openai, pandas, numpy, plotly, python-dotenv\n",
    "\n",
    "## 🔐 Security Notice\n",
    "**IMPORTANT**: This notebook uses secure environment-based API key management. Never hardcode API keys!"
   ]
  },
  {
   "cell_type": "code",
   "execution_count": null,
   "id": "17e3f1a8",
   "metadata": {},
   "outputs": [],
   "source": [
    "# ================================================================================================\n",
    "# 1. SECURE ENVIRONMENT SETUP AND CONFIGURATION\n",
    "# ================================================================================================\n",
    "\n",
    "import os\n",
    "import sys\n",
    "from pathlib import Path\n",
    "import warnings\n",
    "warnings.filterwarnings('ignore')\n",
    "\n",
    "print(\"🔐 SECURE ENVIRONMENT SETUP\")\n",
    "print(\"=\"*50)\n",
    "\n",
    "# Check for .env file\n",
    "env_file = Path('.env')\n",
    "if not env_file.exists():\n",
    "    print(\"⚠️  .env file not found. Creating template...\")\n",
    "    with open('.env', 'w') as f:\n",
    "        f.write(\"# Advanced Sentiment Analysis Configuration\\n\")\n",
    "        f.write(\"OPENAI_API_KEY=your_openai_api_key_here\\n\")\n",
    "        f.write(\"ENVIRONMENT=development\\n\")\n",
    "        f.write(\"LOG_LEVEL=INFO\\n\")\n",
    "        f.write(\"MAX_REQUESTS_PER_MINUTE=60\\n\")\n",
    "    print(\"✅ Created .env template. Please add your OpenAI API key!\")\n",
    "\n",
    "# Load environment variables\n",
    "try:\n",
    "    from dotenv import load_dotenv\n",
    "    load_dotenv()\n",
    "    print(\"✅ Environment variables loaded from .env file\")\n",
    "except ImportError:\n",
    "    print(\"⚠️  python-dotenv not installed. Using os.environ fallback\")\n",
    "\n",
    "# Secure API key retrieval\n",
    "OPENAI_API_KEY = os.getenv('OPENAI_API_KEY')\n",
    "\n",
    "if not OPENAI_API_KEY or OPENAI_API_KEY == 'your_openai_api_key_here':\n",
    "    print(\"❌ SECURITY ERROR: OpenAI API key not properly configured!\")\n",
    "    print(\"📝 Instructions:\")\n",
    "    print(\"   1. Open the .env file in this directory\")\n",
    "    print(\"   2. Replace 'your_openai_api_key_here' with your actual OpenAI API key\")\n",
    "    print(\"   3. Save the file and restart this notebook\")\n",
    "    print(\"   4. Never commit the .env file to version control!\")\n",
    "    \n",
    "    # For demonstration purposes, we'll continue with a placeholder\n",
    "    # In production, you should halt execution here\n",
    "    OPENAI_API_KEY = \"demo_key_replace_with_real_key\"\n",
    "    print(\"⚠️  Using demo key for development. Replace with real key for production!\")\n",
    "else:\n",
    "    # Validate API key format (basic check)\n",
    "    if OPENAI_API_KEY.startswith('sk-') and len(OPENAI_API_KEY) > 45:\n",
    "        print(\"✅ OpenAI API key format appears valid\")\n",
    "    else:\n",
    "        print(\"⚠️  API key format may be incorrect\")\n",
    "\n",
    "# Environment configuration\n",
    "ENVIRONMENT = os.getenv('ENVIRONMENT', 'development')\n",
    "LOG_LEVEL = os.getenv('LOG_LEVEL', 'INFO')\n",
    "MAX_REQUESTS_PER_MINUTE = int(os.getenv('MAX_REQUESTS_PER_MINUTE', '60'))\n",
    "\n",
    "print(f\"🌍 Environment: {ENVIRONMENT}\")\n",
    "print(f\"📊 Log Level: {LOG_LEVEL}\")\n",
    "print(f\"⚡ Rate Limit: {MAX_REQUESTS_PER_MINUTE} requests/minute\")\n",
    "print(\"🔒 Security setup complete!\")\n",
    "print(\"=\"*50)"
   ]
  },
  {
   "cell_type": "code",
   "execution_count": null,
   "id": "a3542c50",
   "metadata": {},
   "outputs": [],
   "source": [
    "# ================================================================================================\n",
    "# 2. COMPREHENSIVE LIBRARY IMPORTS AND DEPENDENCIES\n",
    "# ================================================================================================\n",
    "\n",
    "print(\"📦 LOADING DEPENDENCIES\")\n",
    "print(\"=\"*30)\n",
    "\n",
    "# Core libraries\n",
    "import json\n",
    "import time\n",
    "import datetime\n",
    "import logging\n",
    "import asyncio\n",
    "from typing import List, Dict, Any, Optional, Tuple, Union\n",
    "from dataclasses import dataclass, field\n",
    "from collections import defaultdict, Counter\n",
    "import warnings\n",
    "\n",
    "# Data processing and analysis\n",
    "try:\n",
    "    import pandas as pd\n",
    "    import numpy as np\n",
    "    print(\"✅ Data processing libraries loaded\")\n",
    "except ImportError as e:\n",
    "    print(f\"❌ Missing data libraries: {e}\")\n",
    "    print(\"💡 Install with: pip install pandas numpy\")\n",
    "\n",
    "# Machine learning and NLP\n",
    "try:\n",
    "    import dspy\n",
    "    from dspy.signatures import signature\n",
    "    print(\"✅ DSPy framework loaded\")\n",
    "except ImportError as e:\n",
    "    print(f\"❌ Missing DSPy: {e}\")\n",
    "    print(\"💡 Install with: pip install dspy-ai\")\n",
    "\n",
    "# Visualization\n",
    "try:\n",
    "    import plotly.graph_objects as go\n",
    "    import plotly.express as px\n",
    "    from plotly.subplots import make_subplots\n",
    "    print(\"✅ Plotly visualization loaded\")\n",
    "except ImportError as e:\n",
    "    print(f\"❌ Missing Plotly: {e}\")\n",
    "    print(\"💡 Install with: pip install plotly\")\n",
    "\n",
    "# Additional utilities\n",
    "try:\n",
    "    import requests\n",
    "    from concurrent.futures import ThreadPoolExecutor, as_completed\n",
    "    import hashlib\n",
    "    import pickle\n",
    "    from functools import wraps, lru_cache\n",
    "    print(\"✅ Utility libraries loaded\")\n",
    "except ImportError as e:\n",
    "    print(f\"⚠️  Some utilities missing: {e}\")\n",
    "\n",
    "print(\"📚 All dependencies loaded successfully!\")\n",
    "print(\"=\"*30)\n",
    "\n",
    "# ================================================================================================\n",
    "# 3. DSPY CONFIGURATION AND LANGUAGE MODEL SETUP\n",
    "# ================================================================================================\n",
    "\n",
    "print(\"\\n🤖 DSPy LANGUAGE MODEL SETUP\")\n",
    "print(\"=\"*35)\n",
    "\n",
    "try:\n",
    "    # Configure DSPy with OpenAI\n",
    "    lm = dspy.LM(\n",
    "        'openai/gpt-4o-mini',\n",
    "        api_key=OPENAI_API_KEY,\n",
    "        max_tokens=1000,\n",
    "        temperature=0.3,\n",
    "        cache=True\n",
    "    )\n",
    "    \n",
    "    # Set as default language model\n",
    "    dspy.configure(lm=lm)\n",
    "    \n",
    "    print(\"✅ DSPy configured with OpenAI GPT-4o-mini\")\n",
    "    print(f\"🔧 Model: gpt-4o-mini\")\n",
    "    print(f\"🎯 Max Tokens: 1000\")\n",
    "    print(f\"🌡️  Temperature: 0.3\")\n",
    "    print(f\"💾 Caching: Enabled\")\n",
    "    \n",
    "except Exception as e:\n",
    "    print(f\"❌ DSPy configuration failed: {e}\")\n",
    "    print(\"💡 Check your API key and internet connection\")\n",
    "    # Continue with demo mode\n",
    "    print(\"⚠️  Continuing in demo mode...\")\n",
    "\n",
    "print(\"=\"*35)"
   ]
  },
  {
   "cell_type": "code",
   "execution_count": null,
   "id": "ec2f04f9",
   "metadata": {},
   "outputs": [],
   "source": [
    "# ================================================================================================\n",
    "# 4. DSPY SIGNATURES FOR ADVANCED SENTIMENT ANALYSIS\n",
    "# ================================================================================================\n",
    "\n",
    "print(\"🎭 DEFINING SENTIMENT ANALYSIS SIGNATURES\")\n",
    "print(\"=\"*45)\n",
    "\n",
    "class AdvancedSentimentSignature(dspy.Signature):\n",
    "    \"\"\"\n",
    "    Advanced multi-dimensional sentiment analysis with confidence scoring.\n",
    "    Analyzes primary sentiment, emotions, urgency, toxicity, and business impact.\n",
    "    \"\"\"\n",
    "    text: str = dspy.InputField(desc=\"Text to analyze for sentiment\")\n",
    "    category: str = dspy.InputField(desc=\"Business category (e.g., 'product_review', 'customer_service')\")\n",
    "    \n",
    "    primary_sentiments: List[str] = dspy.OutputField(desc=\"Primary sentiments: positive, negative, neutral, mixed\")\n",
    "    confidence_score: float = dspy.OutputField(desc=\"Confidence in analysis (0.0-1.0)\")\n",
    "    emotion_scores: Dict[str, float] = dspy.OutputField(desc=\"Emotion intensities: joy, anger, sadness, fear, surprise, disgust, trust, anticipation\")\n",
    "    urgency_level: str = dspy.OutputField(desc=\"Urgency: low, medium, high, critical\")\n",
    "    toxicity_score: float = dspy.OutputField(desc=\"Toxicity level (0.0-1.0)\")\n",
    "    business_impact: str = dspy.OutputField(desc=\"Business impact: low, medium, high\")\n",
    "    aspect_sentiments: Dict[str, str] = dspy.OutputField(desc=\"Aspect-based sentiments (e.g., {'price': 'negative', 'quality': 'positive'})\")\n",
    "    key_phrases: List[str] = dspy.OutputField(desc=\"Important phrases driving the sentiment\")\n",
    "    explanation: str = dspy.OutputField(desc=\"Brief explanation of the sentiment analysis\")\n",
    "\n",
    "class ReviewResponseSignature(dspy.Signature):\n",
    "    \"\"\"\n",
    "    Generate contextual responses for customer reviews and feedback.\n",
    "    \"\"\"\n",
    "    review_text: str = dspy.InputField(desc=\"Original review text\")\n",
    "    sentiment_analysis: str = dspy.InputField(desc=\"Sentiment analysis results\")\n",
    "    business_context: str = dspy.InputField(desc=\"Business context and category\")\n",
    "    response_tone: str = dspy.InputField(desc=\"Desired response tone: professional, friendly, empathetic\")\n",
    "    \n",
    "    response_text: str = dspy.OutputField(desc=\"Generated response text\")\n",
    "    response_strategy: str = dspy.OutputField(desc=\"Response strategy used\")\n",
    "    escalation_needed: bool = dspy.OutputField(desc=\"Whether this requires escalation\")\n",
    "    follow_up_actions: List[str] = dspy.OutputField(desc=\"Recommended follow-up actions\")\n",
    "\n",
    "class TrendAnalysisSignature(dspy.Signature):\n",
    "    \"\"\"\n",
    "    Analyze sentiment trends and patterns across multiple reviews.\n",
    "    \"\"\"\n",
    "    reviews_data: str = dspy.InputField(desc=\"Aggregated review data and metrics\")\n",
    "    time_period: str = dspy.InputField(desc=\"Time period for analysis\")\n",
    "    \n",
    "    trend_direction: str = dspy.OutputField(desc=\"Overall trend: improving, declining, stable\")\n",
    "    key_insights: List[str] = dspy.OutputField(desc=\"Key insights from the data\")\n",
    "    recommendations: List[str] = dspy.OutputField(desc=\"Business recommendations\")\n",
    "    risk_factors: List[str] = dspy.OutputField(desc=\"Potential risk factors\")\n",
    "\n",
    "print(\"✅ DSPy signatures defined:\")\n",
    "print(\"   • AdvancedSentimentSignature: Multi-dimensional analysis\")\n",
    "print(\"   • ReviewResponseSignature: Automated response generation\")\n",
    "print(\"   • TrendAnalysisSignature: Business intelligence and trends\")\n",
    "print(\"=\"*45)"
   ]
  },
  {
   "cell_type": "code",
   "execution_count": null,
   "id": "fa28cbec",
   "metadata": {},
   "outputs": [],
   "source": [
    "# ================================================================================================\n",
    "# 5. DATA STRUCTURES AND RESULT MODELS\n",
    "# ================================================================================================\n",
    "\n",
    "print(\"📊 DEFINING DATA STRUCTURES\")\n",
    "print(\"=\"*32)\n",
    "\n",
    "@dataclass\n",
    "class SentimentResult:\n",
    "    \"\"\"Comprehensive sentiment analysis result structure.\"\"\"\n",
    "    \n",
    "    # Core sentiment analysis\n",
    "    primary_sentiments: List[str] = field(default_factory=list)\n",
    "    confidence_score: float = 0.0\n",
    "    \n",
    "    # Emotional analysis\n",
    "    emotion_scores: Dict[str, float] = field(default_factory=dict)\n",
    "    dominant_emotion: str = \"\"\n",
    "    \n",
    "    # Business intelligence\n",
    "    urgency_level: str = \"low\"\n",
    "    toxicity_score: float = 0.0\n",
    "    business_impact: str = \"low\"\n",
    "    \n",
    "    # Detailed analysis\n",
    "    aspect_sentiments: Dict[str, str] = field(default_factory=dict)\n",
    "    key_phrases: List[str] = field(default_factory=list)\n",
    "    explanation: str = \"\"\n",
    "    \n",
    "    # Metadata\n",
    "    processing_time: float = 0.0\n",
    "    timestamp: datetime.datetime = field(default_factory=datetime.datetime.now)\n",
    "    model_version: str = \"v1.0\"\n",
    "    \n",
    "    def to_dict(self) -> Dict[str, Any]:\n",
    "        \"\"\"Convert to dictionary for serialization.\"\"\"\n",
    "        return {\n",
    "            'primary_sentiments': self.primary_sentiments,\n",
    "            'confidence_score': self.confidence_score,\n",
    "            'emotion_scores': self.emotion_scores,\n",
    "            'dominant_emotion': self.dominant_emotion,\n",
    "            'urgency_level': self.urgency_level,\n",
    "            'toxicity_score': self.toxicity_score,\n",
    "            'business_impact': self.business_impact,\n",
    "            'aspect_sentiments': self.aspect_sentiments,\n",
    "            'key_phrases': self.key_phrases,\n",
    "            'explanation': self.explanation,\n",
    "            'processing_time': self.processing_time,\n",
    "            'timestamp': self.timestamp.isoformat(),\n",
    "            'model_version': self.model_version\n",
    "        }\n",
    "    \n",
    "    def get_summary(self) -> str:\n",
    "        \"\"\"Get a human-readable summary.\"\"\"\n",
    "        sentiment = ', '.join(self.primary_sentiments) if self.primary_sentiments else 'neutral'\n",
    "        return f\"Sentiment: {sentiment} (confidence: {self.confidence_score:.2f}, urgency: {self.urgency_level})\"\n",
    "\n",
    "@dataclass\n",
    "class BatchAnalysisResult:\n",
    "    \"\"\"Results from batch sentiment analysis.\"\"\"\n",
    "    \n",
    "    results: List[SentimentResult] = field(default_factory=list)\n",
    "    total_processed: int = 0\n",
    "    processing_time: float = 0.0\n",
    "    success_rate: float = 1.0\n",
    "    \n",
    "    # Aggregated metrics\n",
    "    sentiment_distribution: Dict[str, int] = field(default_factory=dict)\n",
    "    average_confidence: float = 0.0\n",
    "    urgency_distribution: Dict[str, int] = field(default_factory=dict)\n",
    "    \n",
    "    def calculate_metrics(self):\n",
    "        \"\"\"Calculate aggregated metrics from results.\"\"\"\n",
    "        if not self.results:\n",
    "            return\n",
    "        \n",
    "        # Sentiment distribution\n",
    "        sentiment_counts = Counter()\n",
    "        confidence_scores = []\n",
    "        urgency_counts = Counter()\n",
    "        \n",
    "        for result in self.results:\n",
    "            for sentiment in result.primary_sentiments:\n",
    "                sentiment_counts[sentiment] += 1\n",
    "            confidence_scores.append(result.confidence_score)\n",
    "            urgency_counts[result.urgency_level] += 1\n",
    "        \n",
    "        self.sentiment_distribution = dict(sentiment_counts)\n",
    "        self.average_confidence = np.mean(confidence_scores) if confidence_scores else 0.0\n",
    "        self.urgency_distribution = dict(urgency_counts)\n",
    "\n",
    "print(\"✅ Data structures defined:\")\n",
    "print(\"   • SentimentResult: Individual analysis results\")\n",
    "print(\"   • BatchAnalysisResult: Batch processing results\")\n",
    "print(\"   • Built-in serialization and summary methods\")\n",
    "print(\"=\"*32)"
   ]
  },
  {
   "cell_type": "code",
   "execution_count": null,
   "id": "35b43abb",
   "metadata": {},
   "outputs": [],
   "source": [
    "# ================================================================================================\n",
    "# 6. ADVANCED SENTIMENT ANALYZER CLASS\n",
    "# ================================================================================================\n",
    "\n",
    "print(\"🧠 BUILDING ADVANCED SENTIMENT ANALYZER\")\n",
    "print(\"=\"*42)\n",
    "\n",
    "class AdvancedSentimentAnalyzer:\n",
    "    \"\"\"\n",
    "    Advanced sentiment analysis system with multi-dimensional analysis capabilities.\n",
    "    Features confidence scoring, emotion detection, urgency assessment, and business intelligence.\n",
    "    \"\"\"\n",
    "    \n",
    "    def __init__(self, api_key: str = None, cache_enabled: bool = True):\n",
    "        self.api_key = api_key or OPENAI_API_KEY\n",
    "        self.cache_enabled = cache_enabled\n",
    "        self.analysis_cache = {}\n",
    "        self.total_requests = 0\n",
    "        self.successful_requests = 0\n",
    "        \n",
    "        # Initialize DSPy modules\n",
    "        self.sentiment_predictor = dspy.ChainOfThought(AdvancedSentimentSignature)\n",
    "        \n",
    "        # Emotion mapping for comprehensive analysis\n",
    "        self.emotion_categories = {\n",
    "            'joy': ['happy', 'excited', 'delighted', 'pleased', 'satisfied'],\n",
    "            'anger': ['angry', 'frustrated', 'annoyed', 'furious', 'irritated'],\n",
    "            'sadness': ['sad', 'disappointed', 'depressed', 'unhappy', 'upset'],\n",
    "            'fear': ['worried', 'anxious', 'scared', 'nervous', 'concerned'],\n",
    "            'surprise': ['surprised', 'amazed', 'shocked', 'astonished'],\n",
    "            'disgust': ['disgusted', 'repulsed', 'revolted', 'appalled'],\n",
    "            'trust': ['confident', 'trusting', 'reliable', 'secure'],\n",
    "            'anticipation': ['excited', 'hopeful', 'expecting', 'eager']\n",
    "        }\n",
    "        \n",
    "        print(\"✅ Sentiment analyzer initialized\")\n",
    "        print(f\"   • Cache enabled: {cache_enabled}\")\n",
    "        print(f\"   • Emotion categories: {len(self.emotion_categories)}\")\n",
    "    \n",
    "    def _generate_cache_key(self, text: str, category: str) -> str:\n",
    "        \"\"\"Generate cache key for analysis results.\"\"\"\n",
    "        content = f\"{text}:{category}\"\n",
    "        return hashlib.md5(content.encode()).hexdigest()\n",
    "    \n",
    "    def _parse_sentiment_output(self, output) -> SentimentResult:\n",
    "        \"\"\"Parse DSPy output into structured result.\"\"\"\n",
    "        try:\n",
    "            result = SentimentResult()\n",
    "            \n",
    "            # Extract primary sentiments\n",
    "            if hasattr(output, 'primary_sentiments'):\n",
    "                if isinstance(output.primary_sentiments, str):\n",
    "                    result.primary_sentiments = [s.strip() for s in output.primary_sentiments.split(',')]\n",
    "                else:\n",
    "                    result.primary_sentiments = list(output.primary_sentiments)\n",
    "            \n",
    "            # Extract confidence score\n",
    "            if hasattr(output, 'confidence_score'):\n",
    "                try:\n",
    "                    result.confidence_score = float(output.confidence_score)\n",
    "                except (ValueError, TypeError):\n",
    "                    result.confidence_score = 0.5\n",
    "            \n",
    "            # Extract emotion scores\n",
    "            if hasattr(output, 'emotion_scores'):\n",
    "                if isinstance(output.emotion_scores, dict):\n",
    "                    result.emotion_scores = output.emotion_scores\n",
    "                else:\n",
    "                    # Try to parse string representation\n",
    "                    try:\n",
    "                        result.emotion_scores = eval(output.emotion_scores) if isinstance(output.emotion_scores, str) else {}\n",
    "                    except:\n",
    "                        result.emotion_scores = {}\n",
    "            \n",
    "            # Find dominant emotion\n",
    "            if result.emotion_scores:\n",
    "                result.dominant_emotion = max(result.emotion_scores.items(), key=lambda x: x[1])[0]\n",
    "            \n",
    "            # Extract other fields\n",
    "            result.urgency_level = getattr(output, 'urgency_level', 'low')\n",
    "            result.toxicity_score = float(getattr(output, 'toxicity_score', 0.0))\n",
    "            result.business_impact = getattr(output, 'business_impact', 'low')\n",
    "            result.explanation = getattr(output, 'explanation', '')\n",
    "            \n",
    "            # Extract aspect sentiments\n",
    "            if hasattr(output, 'aspect_sentiments'):\n",
    "                if isinstance(output.aspect_sentiments, dict):\n",
    "                    result.aspect_sentiments = output.aspect_sentiments\n",
    "                else:\n",
    "                    try:\n",
    "                        result.aspect_sentiments = eval(output.aspect_sentiments) if isinstance(output.aspect_sentiments, str) else {}\n",
    "                    except:\n",
    "                        result.aspect_sentiments = {}\n",
    "            \n",
    "            # Extract key phrases\n",
    "            if hasattr(output, 'key_phrases'):\n",
    "                if isinstance(output.key_phrases, list):\n",
    "                    result.key_phrases = output.key_phrases\n",
    "                else:\n",
    "                    result.key_phrases = [output.key_phrases] if output.key_phrases else []\n",
    "            \n",
    "            return result\n",
    "            \n",
    "        except Exception as e:\n",
    "            print(f\"⚠️  Error parsing sentiment output: {e}\")\n",
    "            # Return default result\n",
    "            return SentimentResult(\n",
    "                primary_sentiments=['neutral'],\n",
    "                confidence_score=0.1,\n",
    "                explanation=\"Error in analysis parsing\"\n",
    "            )\n",
    "    \n",
    "    def analyze_text(self, text: str, category: str = \"general\") -> SentimentResult:\n",
    "        \"\"\"\n",
    "        Perform comprehensive sentiment analysis on a single text.\n",
    "        \n",
    "        Args:\n",
    "            text: Text to analyze\n",
    "            category: Business category for context\n",
    "            \n",
    "        Returns:\n",
    "            SentimentResult with comprehensive analysis\n",
    "        \"\"\"\n",
    "        start_time = time.time()\n",
    "        self.total_requests += 1\n",
    "        \n",
    "        # Check cache\n",
    "        cache_key = self._generate_cache_key(text, category)\n",
    "        if self.cache_enabled and cache_key in self.analysis_cache:\n",
    "            cached_result = self.analysis_cache[cache_key]\n",
    "            cached_result.processing_time = time.time() - start_time\n",
    "            return cached_result\n",
    "        \n",
    "        try:\n",
    "            # Perform analysis using DSPy\n",
    "            output = self.sentiment_predictor(text=text, category=category)\n",
    "            \n",
    "            # Parse output into structured result\n",
    "            result = self._parse_sentiment_output(output)\n",
    "            result.processing_time = time.time() - start_time\n",
    "            \n",
    "            # Cache result\n",
    "            if self.cache_enabled:\n",
    "                self.analysis_cache[cache_key] = result\n",
    "            \n",
    "            self.successful_requests += 1\n",
    "            return result\n",
    "            \n",
    "        except Exception as e:\n",
    "            print(f\"❌ Analysis failed for text: {text[:50]}...\")\n",
    "            print(f\"   Error: {e}\")\n",
    "            \n",
    "            # Return fallback result\n",
    "            result = SentimentResult(\n",
    "                primary_sentiments=['neutral'],\n",
    "                confidence_score=0.1,\n",
    "                explanation=f\"Analysis failed: {str(e)}\"\n",
    "            )\n",
    "            result.processing_time = time.time() - start_time\n",
    "            return result\n",
    "    \n",
    "    def analyze_review(self, text: str, category: str = \"review\") -> SentimentResult:\n",
    "        \"\"\"Analyze a customer review with enhanced business context.\"\"\"\n",
    "        return self.analyze_text(text, category)\n",
    "    \n",
    "    def analyze_batch(self, texts: List[Tuple[str, str]], parallel: bool = True) -> List[SentimentResult]:\n",
    "        \"\"\"\n",
    "        Analyze multiple texts in batch with optional parallel processing.\n",
    "        \n",
    "        Args:\n",
    "            texts: List of (text, category) tuples\n",
    "            parallel: Whether to use parallel processing\n",
    "            \n",
    "        Returns:\n",
    "            List of SentimentResult objects\n",
    "        \"\"\"\n",
    "        start_time = time.time()\n",
    "        results = []\n",
    "        \n",
    "        if parallel and len(texts) > 1:\n",
    "            # Parallel processing\n",
    "            with ThreadPoolExecutor(max_workers=min(len(texts), 5)) as executor:\n",
    "                future_to_text = {\n",
    "                    executor.submit(self.analyze_text, text, category): (text, category)\n",
    "                    for text, category in texts\n",
    "                }\n",
    "                \n",
    "                for future in as_completed(future_to_text):\n",
    "                    try:\n",
    "                        result = future.result()\n",
    "                        results.append(result)\n",
    "                    except Exception as e:\n",
    "                        text, category = future_to_text[future]\n",
    "                        print(f\"❌ Batch analysis failed for: {text[:30]}...\")\n",
    "                        results.append(SentimentResult(\n",
    "                            primary_sentiments=['error'],\n",
    "                            explanation=f\"Batch processing error: {e}\"\n",
    "                        ))\n",
    "        else:\n",
    "            # Sequential processing\n",
    "            for text, category in texts:\n",
    "                result = self.analyze_text(text, category)\n",
    "                results.append(result)\n",
    "        \n",
    "        processing_time = time.time() - start_time\n",
    "        print(f\"✅ Batch analysis completed: {len(results)} texts in {processing_time:.2f}s\")\n",
    "        \n",
    "        return results\n",
    "    \n",
    "    def get_analytics_dashboard(self) -> Dict[str, Any]:\n",
    "        \"\"\"Get analytics and performance metrics.\"\"\"\n",
    "        success_rate = (self.successful_requests / self.total_requests * 100) if self.total_requests > 0 else 0\n",
    "        \n",
    "        return {\n",
    "            'total_requests': self.total_requests,\n",
    "            'successful_requests': self.successful_requests,\n",
    "            'success_rate': success_rate,\n",
    "            'cache_size': len(self.analysis_cache),\n",
    "            'cache_enabled': self.cache_enabled,\n",
    "            'emotion_categories_count': len(self.emotion_categories)\n",
    "        }\n",
    "    \n",
    "    def clear_cache(self):\n",
    "        \"\"\"Clear analysis cache.\"\"\"\n",
    "        self.analysis_cache.clear()\n",
    "        print(\"🗑️  Analysis cache cleared\")\n",
    "\n",
    "print(\"✅ AdvancedSentimentAnalyzer class created\")\n",
    "print(\"   • Multi-dimensional sentiment analysis\")\n",
    "print(\"   • Caching and performance optimization\")\n",
    "print(\"   • Batch processing with parallel execution\")\n",
    "print(\"   • Business intelligence features\")\n",
    "print(\"=\"*42)"
   ]
  },
  {
   "cell_type": "code",
   "execution_count": null,
   "id": "6123daa1",
   "metadata": {},
   "outputs": [],
   "source": [
    "# ================================================================================================\n",
    "# 7. SPECIALIZED MODULES FOR ADVANCED FEATURES\n",
    "# ================================================================================================\n",
    "\n",
    "print(\"🔬 BUILDING SPECIALIZED ANALYSIS MODULES\")\n",
    "print(\"=\"*45)\n",
    "\n",
    "class ConfidenceCalibrator:\n",
    "    \"\"\"Calibrates confidence scores based on historical performance.\"\"\"\n",
    "    \n",
    "    def __init__(self):\n",
    "        self.calibration_data = []\n",
    "        self.is_calibrated = False\n",
    "    \n",
    "    def add_calibration_point(self, predicted_confidence: float, actual_accuracy: float):\n",
    "        \"\"\"Add a calibration data point.\"\"\"\n",
    "        self.calibration_data.append((predicted_confidence, actual_accuracy))\n",
    "    \n",
    "    def calibrate_confidence(self, raw_confidence: float) -> float:\n",
    "        \"\"\"Apply calibration to raw confidence score.\"\"\"\n",
    "        if not self.is_calibrated or not self.calibration_data:\n",
    "            return raw_confidence\n",
    "        \n",
    "        # Simple calibration using nearest neighbor\n",
    "        closest_point = min(self.calibration_data, \n",
    "                          key=lambda x: abs(x[0] - raw_confidence))\n",
    "        \n",
    "        calibration_factor = closest_point[1] / closest_point[0] if closest_point[0] > 0 else 1.0\n",
    "        return min(1.0, raw_confidence * calibration_factor)\n",
    "\n",
    "class UncertaintyQuantifier:\n",
    "    \"\"\"Quantifies uncertainty in sentiment predictions.\"\"\"\n",
    "    \n",
    "    def __init__(self):\n",
    "        self.uncertainty_threshold = 0.7\n",
    "    \n",
    "    def calculate_uncertainty(self, result: SentimentResult) -> Dict[str, float]:\n",
    "        \"\"\"Calculate various uncertainty metrics.\"\"\"\n",
    "        uncertainty_metrics = {}\n",
    "        \n",
    "        # Confidence-based uncertainty\n",
    "        uncertainty_metrics['confidence_uncertainty'] = 1.0 - result.confidence_score\n",
    "        \n",
    "        # Sentiment ambiguity (multiple strong sentiments)\n",
    "        if len(result.primary_sentiments) > 1:\n",
    "            uncertainty_metrics['sentiment_ambiguity'] = 0.3 * len(result.primary_sentiments)\n",
    "        else:\n",
    "            uncertainty_metrics['sentiment_ambiguity'] = 0.0\n",
    "        \n",
    "        # Emotion scatter (high variance in emotions)\n",
    "        if result.emotion_scores:\n",
    "            emotion_values = list(result.emotion_scores.values())\n",
    "            if len(emotion_values) > 1:\n",
    "                emotion_variance = np.var(emotion_values)\n",
    "                uncertainty_metrics['emotion_scatter'] = min(1.0, emotion_variance * 2)\n",
    "            else:\n",
    "                uncertainty_metrics['emotion_scatter'] = 0.0\n",
    "        \n",
    "        # Overall uncertainty\n",
    "        uncertainty_metrics['overall_uncertainty'] = np.mean(list(uncertainty_metrics.values()))\n",
    "        \n",
    "        return uncertainty_metrics\n",
    "    \n",
    "    def should_flag_for_review(self, result: SentimentResult) -> bool:\n",
    "        \"\"\"Determine if result should be flagged for human review.\"\"\"\n",
    "        uncertainty = self.calculate_uncertainty(result)\n",
    "        return uncertainty['overall_uncertainty'] > self.uncertainty_threshold\n",
    "\n",
    "class SentimentEvaluator:\n",
    "    \"\"\"Evaluates sentiment analysis performance against ground truth.\"\"\"\n",
    "    \n",
    "    def __init__(self):\n",
    "        self.evaluation_history = []\n",
    "    \n",
    "    def evaluate_prediction(self, prediction: SentimentResult, ground_truth: Dict[str, Any]) -> Dict[str, float]:\n",
    "        \"\"\"Evaluate a single prediction against ground truth.\"\"\"\n",
    "        metrics = {}\n",
    "        \n",
    "        # Sentiment accuracy\n",
    "        predicted_sentiment = prediction.primary_sentiments[0] if prediction.primary_sentiments else 'neutral'\n",
    "        true_sentiment = ground_truth.get('sentiment', 'neutral')\n",
    "        metrics['sentiment_accuracy'] = 1.0 if predicted_sentiment == true_sentiment else 0.0\n",
    "        \n",
    "        # Confidence calibration\n",
    "        true_confidence = ground_truth.get('confidence', 0.5)\n",
    "        confidence_error = abs(prediction.confidence_score - true_confidence)\n",
    "        metrics['confidence_calibration'] = 1.0 - confidence_error\n",
    "        \n",
    "        # Urgency accuracy\n",
    "        predicted_urgency = prediction.urgency_level\n",
    "        true_urgency = ground_truth.get('urgency', 'low')\n",
    "        metrics['urgency_accuracy'] = 1.0 if predicted_urgency == true_urgency else 0.0\n",
    "        \n",
    "        self.evaluation_history.append(metrics)\n",
    "        return metrics\n",
    "    \n",
    "    def get_overall_performance(self) -> Dict[str, float]:\n",
    "        \"\"\"Calculate overall performance metrics.\"\"\"\n",
    "        if not self.evaluation_history:\n",
    "            return {}\n",
    "        \n",
    "        performance = {}\n",
    "        for metric in self.evaluation_history[0].keys():\n",
    "            values = [eval_result[metric] for eval_result in self.evaluation_history]\n",
    "            performance[f'avg_{metric}'] = np.mean(values)\n",
    "            performance[f'std_{metric}'] = np.std(values)\n",
    "        \n",
    "        return performance\n",
    "\n",
    "print(\"✅ Specialized modules created:\")\n",
    "print(\"   • ConfidenceCalibrator: Improves confidence accuracy\")\n",
    "print(\"   • UncertaintyQuantifier: Identifies uncertain predictions\")\n",
    "print(\"   • SentimentEvaluator: Performance monitoring and evaluation\")\n",
    "print(\"=\"*45)"
   ]
  },
  {
   "cell_type": "code",
   "execution_count": null,
   "id": "e9505226",
   "metadata": {},
   "outputs": [],
   "source": [
    "# ================================================================================================\n",
    "# 8. RESPONSE GENERATION AND TREND ANALYSIS SYSTEMS\n",
    "# ================================================================================================\n",
    "\n",
    "print(\"💬 BUILDING RESPONSE GENERATION SYSTEM\")\n",
    "print(\"=\"*42)\n",
    "\n",
    "class ResponseGenerationSystem:\n",
    "    \"\"\"Generates contextual responses for customer reviews and feedback.\"\"\"\n",
    "    \n",
    "    def __init__(self):\n",
    "        self.response_predictor = dspy.ChainOfThought(ReviewResponseSignature)\n",
    "        self.response_templates = {\n",
    "            'positive': {\n",
    "                'professional': \"Thank you for your positive feedback! We're delighted to hear about your experience.\",\n",
    "                'friendly': \"Wow, thank you so much! Your review made our day! 😊\",\n",
    "                'empathetic': \"We're so grateful for your kind words and thrilled that we met your expectations.\"\n",
    "            },\n",
    "            'negative': {\n",
    "                'professional': \"We sincerely apologize for your experience and would like to make this right.\",\n",
    "                'friendly': \"Oh no! We're really sorry this happened. Let's fix this together!\",\n",
    "                'empathetic': \"We deeply understand your frustration and are committed to resolving this issue.\"\n",
    "            },\n",
    "            'neutral': {\n",
    "                'professional': \"Thank you for your feedback. We appreciate your honest review.\",\n",
    "                'friendly': \"Thanks for taking the time to share your thoughts with us!\",\n",
    "                'empathetic': \"We value your perspective and appreciate you sharing your experience.\"\n",
    "            }\n",
    "        }\n",
    "    \n",
    "    def generate_contextual_response(self, review_text: str, sentiment_result: SentimentResult, \n",
    "                                   response_tone: str = \"professional\") -> Dict[str, Any]:\n",
    "        \"\"\"Generate a contextual response to a review.\"\"\"\n",
    "        try:\n",
    "            # Determine primary sentiment for template selection\n",
    "            primary_sentiment = sentiment_result.primary_sentiments[0] if sentiment_result.primary_sentiments else 'neutral'\n",
    "            \n",
    "            # Prepare sentiment analysis summary\n",
    "            sentiment_summary = json.dumps({\n",
    "                'sentiments': sentiment_result.primary_sentiments,\n",
    "                'confidence': sentiment_result.confidence_score,\n",
    "                'urgency': sentiment_result.urgency_level,\n",
    "                'emotions': sentiment_result.emotion_scores\n",
    "            })\n",
    "            \n",
    "            # Generate response using DSPy\n",
    "            output = self.response_predictor(\n",
    "                review_text=review_text,\n",
    "                sentiment_analysis=sentiment_summary,\n",
    "                business_context=\"customer service\",\n",
    "                response_tone=response_tone\n",
    "            )\n",
    "            \n",
    "            # Parse response\n",
    "            response = {\n",
    "                'response_text': getattr(output, 'response_text', self._get_fallback_response(primary_sentiment, response_tone)),\n",
    "                'response_strategy': getattr(output, 'response_strategy', 'template_based'),\n",
    "                'escalation_needed': getattr(output, 'escalation_needed', sentiment_result.urgency_level in ['high', 'critical']),\n",
    "                'follow_up_actions': getattr(output, 'follow_up_actions', []),\n",
    "                'sentiment_addressed': primary_sentiment,\n",
    "                'confidence_score': sentiment_result.confidence_score\n",
    "            }\n",
    "            \n",
    "            return response\n",
    "            \n",
    "        except Exception as e:\n",
    "            print(f\"⚠️  Response generation failed: {e}\")\n",
    "            return self._get_fallback_response(primary_sentiment, response_tone)\n",
    "    \n",
    "    def _get_fallback_response(self, sentiment: str, tone: str) -> Dict[str, Any]:\n",
    "        \"\"\"Get fallback response when generation fails.\"\"\"\n",
    "        sentiment_key = 'positive' if sentiment in ['positive', 'joy'] else 'negative' if sentiment in ['negative', 'anger', 'sadness'] else 'neutral'\n",
    "        \n",
    "        return {\n",
    "            'response_text': self.response_templates[sentiment_key].get(tone, self.response_templates[sentiment_key]['professional']),\n",
    "            'response_strategy': 'template_fallback',\n",
    "            'escalation_needed': sentiment == 'negative',\n",
    "            'follow_up_actions': ['manual_review'] if sentiment == 'negative' else [],\n",
    "            'sentiment_addressed': sentiment\n",
    "        }\n",
    "\n",
    "class SentimentTrendAnalyzer:\n",
    "    \"\"\"Analyzes sentiment trends over time and provides business insights.\"\"\"\n",
    "    \n",
    "    def __init__(self):\n",
    "        self.trend_predictor = dspy.ChainOfThought(TrendAnalysisSignature)\n",
    "        self.historical_data = []\n",
    "    \n",
    "    def add_analysis_result(self, result: SentimentResult, timestamp: datetime.datetime = None):\n",
    "        \"\"\"Add analysis result to historical data.\"\"\"\n",
    "        if timestamp is None:\n",
    "            timestamp = datetime.datetime.now()\n",
    "        \n",
    "        self.historical_data.append({\n",
    "            'timestamp': timestamp,\n",
    "            'result': result\n",
    "        })\n",
    "    \n",
    "    def analyze_trends(self, time_period: str = \"last_week\") -> Dict[str, Any]:\n",
    "        \"\"\"Analyze sentiment trends over specified time period.\"\"\"\n",
    "        if not self.historical_data:\n",
    "            return {'error': 'No historical data available'}\n",
    "        \n",
    "        # Filter data by time period\n",
    "        filtered_data = self._filter_by_time_period(time_period)\n",
    "        \n",
    "        if not filtered_data:\n",
    "            return {'error': f'No data available for {time_period}'}\n",
    "        \n",
    "        # Prepare aggregated data\n",
    "        aggregated_data = self._aggregate_sentiment_data(filtered_data)\n",
    "        \n",
    "        try:\n",
    "            # Generate trend analysis using DSPy\n",
    "            output = self.trend_predictor(\n",
    "                reviews_data=json.dumps(aggregated_data),\n",
    "                time_period=time_period\n",
    "            )\n",
    "            \n",
    "            return {\n",
    "                'trend_direction': getattr(output, 'trend_direction', 'stable'),\n",
    "                'key_insights': getattr(output, 'key_insights', []),\n",
    "                'recommendations': getattr(output, 'recommendations', []),\n",
    "                'risk_factors': getattr(output, 'risk_factors', []),\n",
    "                'data_points': len(filtered_data),\n",
    "                'time_period': time_period\n",
    "            }\n",
    "            \n",
    "        except Exception as e:\n",
    "            print(f\"⚠️  Trend analysis failed: {e}\")\n",
    "            return self._calculate_basic_trends(filtered_data, time_period)\n",
    "    \n",
    "    def _filter_by_time_period(self, time_period: str) -> List[Dict]:\n",
    "        \"\"\"Filter historical data by time period.\"\"\"\n",
    "        now = datetime.datetime.now()\n",
    "        \n",
    "        if time_period == \"last_day\":\n",
    "            cutoff = now - datetime.timedelta(days=1)\n",
    "        elif time_period == \"last_week\":\n",
    "            cutoff = now - datetime.timedelta(weeks=1)\n",
    "        elif time_period == \"last_month\":\n",
    "            cutoff = now - datetime.timedelta(days=30)\n",
    "        else:\n",
    "            cutoff = now - datetime.timedelta(weeks=1)  # Default to last week\n",
    "        \n",
    "        return [data for data in self.historical_data if data['timestamp'] >= cutoff]\n",
    "    \n",
    "    def _aggregate_sentiment_data(self, data: List[Dict]) -> Dict[str, Any]:\n",
    "        \"\"\"Aggregate sentiment data for trend analysis.\"\"\"\n",
    "        sentiments = []\n",
    "        confidence_scores = []\n",
    "        urgency_levels = []\n",
    "        \n",
    "        for item in data:\n",
    "            result = item['result']\n",
    "            sentiments.extend(result.primary_sentiments)\n",
    "            confidence_scores.append(result.confidence_score)\n",
    "            urgency_levels.append(result.urgency_level)\n",
    "        \n",
    "        sentiment_counts = Counter(sentiments)\n",
    "        urgency_counts = Counter(urgency_levels)\n",
    "        \n",
    "        return {\n",
    "            'total_reviews': len(data),\n",
    "            'sentiment_distribution': dict(sentiment_counts),\n",
    "            'average_confidence': np.mean(confidence_scores),\n",
    "            'urgency_distribution': dict(urgency_counts),\n",
    "            'time_span': f\"{data[0]['timestamp'].isoformat()} to {data[-1]['timestamp'].isoformat()}\"\n",
    "        }\n",
    "    \n",
    "    def _calculate_basic_trends(self, data: List[Dict], time_period: str) -> Dict[str, Any]:\n",
    "        \"\"\"Calculate basic trends when DSPy analysis fails.\"\"\"\n",
    "        aggregated = self._aggregate_sentiment_data(data)\n",
    "        \n",
    "        # Determine trend direction\n",
    "        positive_ratio = aggregated['sentiment_distribution'].get('positive', 0) / aggregated['total_reviews']\n",
    "        \n",
    "        if positive_ratio > 0.6:\n",
    "            trend_direction = 'improving'\n",
    "        elif positive_ratio < 0.3:\n",
    "            trend_direction = 'declining'\n",
    "        else:\n",
    "            trend_direction = 'stable'\n",
    "        \n",
    "        return {\n",
    "            'trend_direction': trend_direction,\n",
    "            'key_insights': [f'Analyzed {aggregated[\"total_reviews\"]} reviews', f'Average confidence: {aggregated[\"average_confidence\"]:.2f}'],\n",
    "            'recommendations': ['Continue monitoring trends', 'Focus on customer satisfaction'],\n",
    "            'risk_factors': ['Low confidence scores'] if aggregated['average_confidence'] < 0.7 else [],\n",
    "            'data_points': len(data),\n",
    "            'time_period': time_period\n",
    "        }\n",
    "\n",
    "print(\"✅ Response and trend analysis systems created:\")\n",
    "print(\"   • ResponseGenerationSystem: Automated customer responses\")\n",
    "print(\"   • SentimentTrendAnalyzer: Business intelligence and trends\")\n",
    "print(\"   • Contextual response generation with multiple tones\")\n",
    "print(\"   • Historical trend analysis and business insights\")\n",
    "print(\"=\"*42)"
   ]
  },
  {
   "cell_type": "code",
   "execution_count": null,
   "id": "36545b9f",
   "metadata": {},
   "outputs": [],
   "source": [
    "# ================================================================================================\n",
    "# 9. VISUALIZATION AND SECURITY SYSTEMS\n",
    "# ================================================================================================\n",
    "\n",
    "print(\"📊 BUILDING VISUALIZATION SYSTEM\")\n",
    "print(\"=\"*35)\n",
    "\n",
    "class SentimentVisualizer:\n",
    "    \"\"\"Advanced visualization system for sentiment analysis results.\"\"\"\n",
    "    \n",
    "    def __init__(self):\n",
    "        self.color_palette = {\n",
    "            'positive': '#2E8B57',  # Sea Green\n",
    "            'negative': '#DC143C',  # Crimson\n",
    "            'neutral': '#708090',   # Slate Gray\n",
    "            'mixed': '#FF8C00',     # Dark Orange\n",
    "            'joy': '#FFD700',       # Gold\n",
    "            'anger': '#B22222',     # Fire Brick\n",
    "            'sadness': '#4682B4',   # Steel Blue\n",
    "            'fear': '#8B008B',      # Dark Magenta\n",
    "            'surprise': '#FF6347',  # Tomato\n",
    "            'disgust': '#8B4513',   # Saddle Brown\n",
    "            'trust': '#32CD32',     # Lime Green\n",
    "            'anticipation': '#9370DB'  # Medium Purple\n",
    "        }\n",
    "    \n",
    "    def create_sentiment_dashboard(self, results: List[SentimentResult]) -> Dict[str, Any]:\n",
    "        \"\"\"Create comprehensive sentiment analysis dashboard.\"\"\"\n",
    "        dashboard_data = {\n",
    "            'sentiment_distribution': self._calculate_sentiment_distribution(results),\n",
    "            'confidence_metrics': self._calculate_confidence_metrics(results),\n",
    "            'emotion_analysis': self._calculate_emotion_metrics(results),\n",
    "            'urgency_analysis': self._calculate_urgency_metrics(results),\n",
    "            'business_insights': self._generate_business_insights(results)\n",
    "        }\n",
    "        \n",
    "        return dashboard_data\n",
    "    \n",
    "    def _calculate_sentiment_distribution(self, results: List[SentimentResult]) -> Dict[str, Any]:\n",
    "        \"\"\"Calculate sentiment distribution metrics.\"\"\"\n",
    "        all_sentiments = []\n",
    "        for result in results:\n",
    "            all_sentiments.extend(result.primary_sentiments)\n",
    "        \n",
    "        sentiment_counts = Counter(all_sentiments)\n",
    "        total = sum(sentiment_counts.values())\n",
    "        \n",
    "        return {\n",
    "            'counts': dict(sentiment_counts),\n",
    "            'percentages': {k: (v/total)*100 for k, v in sentiment_counts.items()},\n",
    "            'total_sentiments': total\n",
    "        }\n",
    "    \n",
    "    def _calculate_confidence_metrics(self, results: List[SentimentResult]) -> Dict[str, float]:\n",
    "        \"\"\"Calculate confidence-related metrics.\"\"\"\n",
    "        confidence_scores = [r.confidence_score for r in results]\n",
    "        \n",
    "        return {\n",
    "            'average_confidence': np.mean(confidence_scores),\n",
    "            'confidence_std': np.std(confidence_scores),\n",
    "            'high_confidence_rate': sum(1 for c in confidence_scores if c > 0.8) / len(confidence_scores),\n",
    "            'low_confidence_rate': sum(1 for c in confidence_scores if c < 0.5) / len(confidence_scores)\n",
    "        }\n",
    "    \n",
    "    def _calculate_emotion_metrics(self, results: List[SentimentResult]) -> Dict[str, Any]:\n",
    "        \"\"\"Calculate emotion-related metrics.\"\"\"\n",
    "        emotion_aggregates = defaultdict(list)\n",
    "        \n",
    "        for result in results:\n",
    "            for emotion, score in result.emotion_scores.items():\n",
    "                emotion_aggregates[emotion].append(score)\n",
    "        \n",
    "        emotion_stats = {}\n",
    "        for emotion, scores in emotion_aggregates.items():\n",
    "            emotion_stats[emotion] = {\n",
    "                'average': np.mean(scores),\n",
    "                'max': np.max(scores),\n",
    "                'frequency': len(scores)\n",
    "            }\n",
    "        \n",
    "        return emotion_stats\n",
    "    \n",
    "    def _calculate_urgency_metrics(self, results: List[SentimentResult]) -> Dict[str, Any]:\n",
    "        \"\"\"Calculate urgency-related metrics.\"\"\"\n",
    "        urgency_counts = Counter(r.urgency_level for r in results)\n",
    "        total = len(results)\n",
    "        \n",
    "        return {\n",
    "            'distribution': dict(urgency_counts),\n",
    "            'critical_rate': urgency_counts.get('critical', 0) / total,\n",
    "            'high_priority_rate': (urgency_counts.get('high', 0) + urgency_counts.get('critical', 0)) / total\n",
    "        }\n",
    "    \n",
    "    def _generate_business_insights(self, results: List[SentimentResult]) -> List[str]:\n",
    "        \"\"\"Generate business insights from analysis results.\"\"\"\n",
    "        insights = []\n",
    "        \n",
    "        # Sentiment insights\n",
    "        sentiment_dist = self._calculate_sentiment_distribution(results)\n",
    "        positive_rate = sentiment_dist['percentages'].get('positive', 0)\n",
    "        negative_rate = sentiment_dist['percentages'].get('negative', 0)\n",
    "        \n",
    "        if positive_rate > 70:\n",
    "            insights.append(\"🎉 Excellent customer satisfaction - high positive sentiment rate\")\n",
    "        elif negative_rate > 30:\n",
    "            insights.append(\"⚠️ Concerning negative sentiment rate - immediate attention needed\")\n",
    "        \n",
    "        # Confidence insights\n",
    "        confidence_metrics = self._calculate_confidence_metrics(results)\n",
    "        if confidence_metrics['average_confidence'] < 0.6:\n",
    "            insights.append(\"🔍 Low average confidence - consider model retraining\")\n",
    "        \n",
    "        # Urgency insights\n",
    "        urgency_metrics = self._calculate_urgency_metrics(results)\n",
    "        if urgency_metrics['critical_rate'] > 0.1:\n",
    "            insights.append(\"🚨 High critical issue rate - escalation process review needed\")\n",
    "        \n",
    "        return insights\n",
    "\n",
    "print(\"✅ Visualization system created\")\n",
    "print(\"   • Comprehensive dashboard generation\")\n",
    "print(\"   • Business insights and recommendations\")\n",
    "print(\"   • Multi-dimensional metrics calculation\")\n",
    "\n",
    "# ================================================================================================\n",
    "# 10. SECURITY AND VALIDATION SYSTEM\n",
    "# ================================================================================================\n",
    "\n",
    "print(\"\\n🔒 SECURITY AND VALIDATION SYSTEM\")\n",
    "print(\"=\"*37)\n",
    "\n",
    "class SecurityValidator:\n",
    "    \"\"\"Security validation and input sanitization.\"\"\"\n",
    "    \n",
    "    def __init__(self):\n",
    "        self.max_text_length = 10000\n",
    "        self.suspicious_patterns = [\n",
    "            r'<script.*?>.*?</script>',\n",
    "            r'javascript:',\n",
    "            r'eval\\(',\n",
    "            r'document\\.cookie',\n",
    "            r'window\\.location'\n",
    "        ]\n",
    "        self.rate_limit_requests = 0\n",
    "        self.rate_limit_window_start = time.time()\n",
    "        self.max_requests_per_minute = MAX_REQUESTS_PER_MINUTE\n",
    "    \n",
    "    def validate_input(self, text: str) -> Tuple[bool, str]:\n",
    "        \"\"\"Validate and sanitize input text.\"\"\"\n",
    "        # Check text length\n",
    "        if len(text) > self.max_text_length:\n",
    "            return False, f\"Text too long. Maximum {self.max_text_length} characters allowed.\"\n",
    "        \n",
    "        # Check for suspicious patterns\n",
    "        import re\n",
    "        for pattern in self.suspicious_patterns:\n",
    "            if re.search(pattern, text, re.IGNORECASE):\n",
    "                return False, \"Potentially malicious content detected.\"\n",
    "        \n",
    "        # Check for rate limiting\n",
    "        if not self._check_rate_limit():\n",
    "            return False, \"Rate limit exceeded. Please wait before making more requests.\"\n",
    "        \n",
    "        return True, \"Input validated successfully.\"\n",
    "    \n",
    "    def _check_rate_limit(self) -> bool:\n",
    "        \"\"\"Check if request is within rate limits.\"\"\"\n",
    "        current_time = time.time()\n",
    "        \n",
    "        # Reset window if more than a minute has passed\n",
    "        if current_time - self.rate_limit_window_start > 60:\n",
    "            self.rate_limit_requests = 0\n",
    "            self.rate_limit_window_start = current_time\n",
    "        \n",
    "        # Check if within limits\n",
    "        if self.rate_limit_requests >= self.max_requests_per_minute:\n",
    "            return False\n",
    "        \n",
    "        self.rate_limit_requests += 1\n",
    "        return True\n",
    "    \n",
    "    def sanitize_text(self, text: str) -> str:\n",
    "        \"\"\"Sanitize text by removing potentially harmful content.\"\"\"\n",
    "        import html\n",
    "        \n",
    "        # HTML escape\n",
    "        sanitized = html.escape(text)\n",
    "        \n",
    "        # Remove excessive whitespace\n",
    "        sanitized = ' '.join(sanitized.split())\n",
    "        \n",
    "        # Truncate if too long\n",
    "        if len(sanitized) > self.max_text_length:\n",
    "            sanitized = sanitized[:self.max_text_length] + \"...\"\n",
    "        \n",
    "        return sanitized\n",
    "\n",
    "print(\"✅ Security system initialized:\")\n",
    "print(f\"   • Input validation and sanitization\")\n",
    "print(f\"   • Rate limiting: {MAX_REQUESTS_PER_MINUTE} requests/minute\")\n",
    "print(f\"   • Maximum text length: 10,000 characters\")\n",
    "print(f\"   • Malicious content detection\")\n",
    "print(\"=\"*37)"
   ]
  },
  {
   "cell_type": "code",
   "execution_count": null,
   "id": "747f25e9",
   "metadata": {},
   "outputs": [],
   "source": [
    "# ================================================================================================\n",
    "# 11. SYSTEM INITIALIZATION AND TRAINING DATA\n",
    "# ================================================================================================\n",
    "\n",
    "print(\"🚀 INITIALIZING COMPLETE SENTIMENT ANALYSIS SYSTEM\")\n",
    "print(\"=\"*55)\n",
    "\n",
    "# Initialize all system components\n",
    "try:\n",
    "    # Core analyzer\n",
    "    analyzer = AdvancedSentimentAnalyzer(api_key=OPENAI_API_KEY, cache_enabled=True)\n",
    "    print(\"✅ Advanced Sentiment Analyzer initialized\")\n",
    "    \n",
    "    # Specialized modules\n",
    "    calibrator = ConfidenceCalibrator()\n",
    "    uncertainty_quantifier = UncertaintyQuantifier()\n",
    "    evaluator = SentimentEvaluator()\n",
    "    print(\"✅ Specialized analysis modules initialized\")\n",
    "    \n",
    "    # Business intelligence systems\n",
    "    response_system = ResponseGenerationSystem()\n",
    "    trend_analyzer = SentimentTrendAnalyzer()\n",
    "    visualizer = SentimentVisualizer()\n",
    "    print(\"✅ Business intelligence systems initialized\")\n",
    "    \n",
    "    # Security and validation\n",
    "    security_validator = SecurityValidator()\n",
    "    print(\"✅ Security validation system initialized\")\n",
    "    \n",
    "    print(\"\\n🎯 SYSTEM READY FOR ANALYSIS!\")\n",
    "    \n",
    "except Exception as e:\n",
    "    print(f\"❌ System initialization failed: {e}\")\n",
    "    print(\"💡 Please check your API key and dependencies\")\n",
    "\n",
    "# ================================================================================================\n",
    "# 12. TRAINING AND VALIDATION DATA SETUP\n",
    "# ================================================================================================\n",
    "\n",
    "print(\"\\n📚 SETTING UP TRAINING AND VALIDATION DATA\")\n",
    "print(\"=\"*48)\n",
    "\n",
    "# Sample training data for model calibration\n",
    "training_data = [\n",
    "    {\n",
    "        'text': \"This product is absolutely amazing! Best purchase ever!\",\n",
    "        'expected_sentiment': 'positive',\n",
    "        'expected_confidence': 0.95,\n",
    "        'expected_urgency': 'low',\n",
    "        'category': 'product_review'\n",
    "    },\n",
    "    {\n",
    "        'text': \"Terrible quality, broke immediately. Complete waste of money!\",\n",
    "        'expected_sentiment': 'negative',\n",
    "        'expected_confidence': 0.90,\n",
    "        'expected_urgency': 'medium',\n",
    "        'category': 'product_review'\n",
    "    },\n",
    "    {\n",
    "        'text': \"The service was okay, nothing special but not bad either.\",\n",
    "        'expected_sentiment': 'neutral',\n",
    "        'expected_confidence': 0.70,\n",
    "        'expected_urgency': 'low',\n",
    "        'category': 'service_review'\n",
    "    },\n",
    "    {\n",
    "        'text': \"URGENT: System crashed during important presentation!\",\n",
    "        'expected_sentiment': 'negative',\n",
    "        'expected_confidence': 0.85,\n",
    "        'expected_urgency': 'critical',\n",
    "        'category': 'technical_support'\n",
    "    },\n",
    "    {\n",
    "        'text': \"Good value for money, decent quality overall.\",\n",
    "        'expected_sentiment': 'positive',\n",
    "        'expected_confidence': 0.75,\n",
    "        'expected_urgency': 'low',\n",
    "        'category': 'product_review'\n",
    "    }\n",
    "]\n",
    "\n",
    "# Test reviews for demonstration\n",
    "test_reviews = [\n",
    "    (\"I love this new feature! It's exactly what I needed.\", \"software\"),\n",
    "    (\"Customer service was unhelpful and rude.\", \"customer_service\"),\n",
    "    (\"The food was cold when it arrived.\", \"food_delivery\"),\n",
    "    (\"Excellent build quality and fast shipping!\", \"ecommerce\"),\n",
    "    (\"Not sure how I feel about the recent changes.\", \"product_update\"),\n",
    "    (\"Outstanding support team, very responsive!\", \"customer_service\"),\n",
    "    (\"Product description was misleading, disappointed.\", \"ecommerce\"),\n",
    "    (\"Perfect for my needs, highly recommend!\", \"product_review\")\n",
    "]\n",
    "\n",
    "print(f\"✅ Training data prepared: {len(training_data)} samples\")\n",
    "print(f\"✅ Test reviews prepared: {len(test_reviews)} samples\")\n",
    "\n",
    "# Validate system with training data\n",
    "print(\"\\n🔬 VALIDATING SYSTEM WITH TRAINING DATA\")\n",
    "print(\"-\" * 42)\n",
    "\n",
    "validation_results = []\n",
    "for i, sample in enumerate(training_data[:3], 1):  # Test first 3 samples\n",
    "    print(f\"\\nValidation {i}: {sample['text'][:50]}...\")\n",
    "    \n",
    "    # Validate input\n",
    "    is_valid, validation_message = security_validator.validate_input(sample['text'])\n",
    "    if not is_valid:\n",
    "        print(f\"❌ Security validation failed: {validation_message}\")\n",
    "        continue\n",
    "    \n",
    "    # Perform analysis\n",
    "    result = analyzer.analyze_text(sample['text'], sample['category'])\n",
    "    \n",
    "    # Evaluate against expected results\n",
    "    ground_truth = {\n",
    "        'sentiment': sample['expected_sentiment'],\n",
    "        'confidence': sample['expected_confidence'],\n",
    "        'urgency': sample['expected_urgency']\n",
    "    }\n",
    "    \n",
    "    evaluation = evaluator.evaluate_prediction(result, ground_truth)\n",
    "    validation_results.append(evaluation)\n",
    "    \n",
    "    print(f\"   Predicted: {result.primary_sentiments} (confidence: {result.confidence_score:.2f})\")\n",
    "    print(f\"   Expected: {sample['expected_sentiment']} (confidence: {sample['expected_confidence']:.2f})\")\n",
    "    print(f\"   Accuracy: {evaluation['sentiment_accuracy']:.2f}\")\n",
    "\n",
    "# Calculate overall validation performance\n",
    "if validation_results:\n",
    "    avg_accuracy = np.mean([r['sentiment_accuracy'] for r in validation_results])\n",
    "    print(f\"\\n📊 Validation Results: {avg_accuracy:.2%} accuracy on training samples\")\n",
    "else:\n",
    "    print(\"\\n⚠️ No validation results available\")\n",
    "\n",
    "print(\"\\n\" + \"=\"*55)\n",
    "print(\"🎉 SENTIMENT ANALYSIS SYSTEM FULLY INITIALIZED!\")\n",
    "print(\"✅ All components loaded and validated\")\n",
    "print(\"🔒 Security measures active\")\n",
    "print(\"📊 Ready for production analysis\")\n",
    "print(\"=\"*55)"
   ]
  },
  {
   "cell_type": "code",
   "execution_count": null,
   "id": "9417e5ea",
   "metadata": {},
   "outputs": [
    {
     "name": "stdout",
     "output_type": "stream",
     "text": [
      "🎯 PRACTICAL SENTIMENT ANALYSIS SYSTEM EXAMPLE\n",
      "============================================================\n",
      "📊 This example shows how to use the system with real data and create plots\n",
      "============================================================\n",
      "\n",
      "🔍 EXAMPLE 1: INDIVIDUAL REVIEW ANALYSIS\n",
      "---------------------------------------------\n",
      "\n",
      "📝 Review 1: Highly Positive Review\n",
      "Text: This smartphone is absolutely amazing! The camera quality is outstanding, batter...\n",
      "----------------------------------------\n",
      "🎯 Analysis Results:\n",
      "   • Primary Sentiments: positive\n",
      "   • Confidence Score: 0.950\n",
      "   • Urgency Level: low\n",
      "   • Toxicity Score: 0.000\n",
      "   • Business Impact: medium\n",
      "   • Processing Time: 0.004s\n",
      "   • Top Emotions: joy (0.90), optimism (0.90), trust (0.80)\n",
      "\n",
      "💬 Generated Response:\n",
      "   • Strategy: positive\n",
      "   • Escalation Needed: False\n",
      "   • Response Preview: Thank you for your wonderful feedback! We're thrilled to hear that you find our smartphone amazing, ...\n",
      "\n",
      "📝 Review 2: Negative Review\n",
      "Text: I'm really disappointed with this laptop. It overheats constantly, the battery d...\n",
      "----------------------------------------\n",
      "🎯 Analysis Results:\n",
      "   • Primary Sentiments: disappointed, negative\n",
      "   • Confidence Score: 0.850\n",
      "   • Urgency Level: high\n",
      "   • Toxicity Score: 0.100\n",
      "   • Business Impact: high\n",
      "   • Processing Time: 0.004s\n",
      "   • Top Emotions: anger (0.80), disgust (0.70), sadness (0.60)\n",
      "\n",
      "💬 Generated Response:\n",
      "   • Strategy: escalation\n",
      "   • Escalation Needed: True\n",
      "   • Response Preview: Thank you for your feedback. Due to the nature of your review, we're escalating this to our speciali...\n",
      "\n",
      "📝 Review 3: Mixed Review\n",
      "Text: The product is decent for the price. Good build quality but nothing exceptional....\n",
      "----------------------------------------\n",
      "🎯 Analysis Results:\n",
      "   • Primary Sentiments: neutral, constructive\n",
      "   • Confidence Score: 0.850\n",
      "   • Urgency Level: low\n",
      "   • Toxicity Score: 0.000\n",
      "   • Business Impact: medium\n",
      "   • Processing Time: 0.002s\n",
      "   • Top Emotions: trust (0.50), anticipation (0.40), joy (0.30)\n",
      "\n",
      "💬 Generated Response:\n",
      "   • Strategy: constructive\n",
      "   • Escalation Needed: False\n",
      "   • Response Preview: Thank you for taking the time to share your thoughts on our product. We're glad to hear that you fou...\n",
      "\n",
      "📝 Review 4: Critical Issue\n",
      "Text: URGENT: System crashed during critical presentation! This is completely unaccept...\n",
      "----------------------------------------\n",
      "🎯 Analysis Results:\n",
      "   • Primary Sentiments: negative, frustrated, urgent\n",
      "   • Confidence Score: 0.850\n",
      "   • Urgency Level: high\n",
      "   • Toxicity Score: 0.100\n",
      "   • Business Impact: high\n",
      "   • Processing Time: 0.003s\n",
      "   • Top Emotions: anger (0.90), fear (0.50), anticipation (0.40)\n",
      "\n",
      "💬 Generated Response:\n",
      "   • Strategy: escalation\n",
      "   • Escalation Needed: True\n",
      "   • Response Preview: Thank you for your feedback. Due to the nature of your review, we're escalating this to our speciali...\n",
      "\n",
      "✅ Analyzed 4 reviews successfully!\n",
      "\n",
      "\n",
      "⚡ EXAMPLE 2: BATCH PROCESSING DEMONSTRATION\n",
      "---------------------------------------------\n",
      "🔄 Processing 10 reviews in batch mode...\n",
      "🔄 Analyzing batch of 10 reviews...\n",
      "✅ Batch analysis completed: 10 results\n",
      "✅ Batch processing completed in 0.03 seconds\n",
      "⚡ Processing speed: 287.3 reviews/second\n",
      "\n",
      "📊 Batch Analysis Summary:\n",
      "   • Average Confidence: 0.880\n",
      "   • Sentiment Distribution: {'positive': 5, 'negative': 4, 'disappointed': 3, 'mixed': 1, 'frustrated': 1}\n",
      "   • Urgency Distribution: {'low': 6, 'medium': 3, 'high': 1}\n",
      "\n",
      "\n",
      "📊 CREATING VISUALIZATIONS\n",
      "------------------------------\n",
      "📈 Plot 1: Sentiment Distribution Pie Chart\n"
     ]
    },
    {
     "data": {
      "application/vnd.plotly.v1+json": {
       "config": {
        "plotlyServerURL": "https://plot.ly"
       },
       "data": [
        {
         "hole": 0.3,
         "labels": [
          "positive",
          "disappointed",
          "negative",
          "neutral",
          "constructive",
          "frustrated",
          "urgent",
          "mixed"
         ],
         "marker": {
          "colors": [
           "#2E8B57",
           "#DC143C",
           "#708090",
           "#FF8C00",
           "#4169E1",
           "#B22222",
           "#FFD700"
          ]
         },
         "textinfo": "label+percent",
         "textposition": "outside",
         "type": "pie",
         "values": [
          6,
          4,
          6,
          1,
          1,
          2,
          1,
          1
         ]
        }
       ],
       "layout": {
        "font": {
         "size": 14
        },
        "height": 500,
        "showlegend": true,
        "template": {
         "data": {
          "bar": [
           {
            "error_x": {
             "color": "#2a3f5f"
            },
            "error_y": {
             "color": "#2a3f5f"
            },
            "marker": {
             "line": {
              "color": "#E5ECF6",
              "width": 0.5
             },
             "pattern": {
              "fillmode": "overlay",
              "size": 10,
              "solidity": 0.2
             }
            },
            "type": "bar"
           }
          ],
          "barpolar": [
           {
            "marker": {
             "line": {
              "color": "#E5ECF6",
              "width": 0.5
             },
             "pattern": {
              "fillmode": "overlay",
              "size": 10,
              "solidity": 0.2
             }
            },
            "type": "barpolar"
           }
          ],
          "carpet": [
           {
            "aaxis": {
             "endlinecolor": "#2a3f5f",
             "gridcolor": "white",
             "linecolor": "white",
             "minorgridcolor": "white",
             "startlinecolor": "#2a3f5f"
            },
            "baxis": {
             "endlinecolor": "#2a3f5f",
             "gridcolor": "white",
             "linecolor": "white",
             "minorgridcolor": "white",
             "startlinecolor": "#2a3f5f"
            },
            "type": "carpet"
           }
          ],
          "choropleth": [
           {
            "colorbar": {
             "outlinewidth": 0,
             "ticks": ""
            },
            "type": "choropleth"
           }
          ],
          "contour": [
           {
            "colorbar": {
             "outlinewidth": 0,
             "ticks": ""
            },
            "colorscale": [
             [
              0,
              "#0d0887"
             ],
             [
              0.1111111111111111,
              "#46039f"
             ],
             [
              0.2222222222222222,
              "#7201a8"
             ],
             [
              0.3333333333333333,
              "#9c179e"
             ],
             [
              0.4444444444444444,
              "#bd3786"
             ],
             [
              0.5555555555555556,
              "#d8576b"
             ],
             [
              0.6666666666666666,
              "#ed7953"
             ],
             [
              0.7777777777777778,
              "#fb9f3a"
             ],
             [
              0.8888888888888888,
              "#fdca26"
             ],
             [
              1,
              "#f0f921"
             ]
            ],
            "type": "contour"
           }
          ],
          "contourcarpet": [
           {
            "colorbar": {
             "outlinewidth": 0,
             "ticks": ""
            },
            "type": "contourcarpet"
           }
          ],
          "heatmap": [
           {
            "colorbar": {
             "outlinewidth": 0,
             "ticks": ""
            },
            "colorscale": [
             [
              0,
              "#0d0887"
             ],
             [
              0.1111111111111111,
              "#46039f"
             ],
             [
              0.2222222222222222,
              "#7201a8"
             ],
             [
              0.3333333333333333,
              "#9c179e"
             ],
             [
              0.4444444444444444,
              "#bd3786"
             ],
             [
              0.5555555555555556,
              "#d8576b"
             ],
             [
              0.6666666666666666,
              "#ed7953"
             ],
             [
              0.7777777777777778,
              "#fb9f3a"
             ],
             [
              0.8888888888888888,
              "#fdca26"
             ],
             [
              1,
              "#f0f921"
             ]
            ],
            "type": "heatmap"
           }
          ],
          "histogram": [
           {
            "marker": {
             "pattern": {
              "fillmode": "overlay",
              "size": 10,
              "solidity": 0.2
             }
            },
            "type": "histogram"
           }
          ],
          "histogram2d": [
           {
            "colorbar": {
             "outlinewidth": 0,
             "ticks": ""
            },
            "colorscale": [
             [
              0,
              "#0d0887"
             ],
             [
              0.1111111111111111,
              "#46039f"
             ],
             [
              0.2222222222222222,
              "#7201a8"
             ],
             [
              0.3333333333333333,
              "#9c179e"
             ],
             [
              0.4444444444444444,
              "#bd3786"
             ],
             [
              0.5555555555555556,
              "#d8576b"
             ],
             [
              0.6666666666666666,
              "#ed7953"
             ],
             [
              0.7777777777777778,
              "#fb9f3a"
             ],
             [
              0.8888888888888888,
              "#fdca26"
             ],
             [
              1,
              "#f0f921"
             ]
            ],
            "type": "histogram2d"
           }
          ],
          "histogram2dcontour": [
           {
            "colorbar": {
             "outlinewidth": 0,
             "ticks": ""
            },
            "colorscale": [
             [
              0,
              "#0d0887"
             ],
             [
              0.1111111111111111,
              "#46039f"
             ],
             [
              0.2222222222222222,
              "#7201a8"
             ],
             [
              0.3333333333333333,
              "#9c179e"
             ],
             [
              0.4444444444444444,
              "#bd3786"
             ],
             [
              0.5555555555555556,
              "#d8576b"
             ],
             [
              0.6666666666666666,
              "#ed7953"
             ],
             [
              0.7777777777777778,
              "#fb9f3a"
             ],
             [
              0.8888888888888888,
              "#fdca26"
             ],
             [
              1,
              "#f0f921"
             ]
            ],
            "type": "histogram2dcontour"
           }
          ],
          "mesh3d": [
           {
            "colorbar": {
             "outlinewidth": 0,
             "ticks": ""
            },
            "type": "mesh3d"
           }
          ],
          "parcoords": [
           {
            "line": {
             "colorbar": {
              "outlinewidth": 0,
              "ticks": ""
             }
            },
            "type": "parcoords"
           }
          ],
          "pie": [
           {
            "automargin": true,
            "type": "pie"
           }
          ],
          "scatter": [
           {
            "fillpattern": {
             "fillmode": "overlay",
             "size": 10,
             "solidity": 0.2
            },
            "type": "scatter"
           }
          ],
          "scatter3d": [
           {
            "line": {
             "colorbar": {
              "outlinewidth": 0,
              "ticks": ""
             }
            },
            "marker": {
             "colorbar": {
              "outlinewidth": 0,
              "ticks": ""
             }
            },
            "type": "scatter3d"
           }
          ],
          "scattercarpet": [
           {
            "marker": {
             "colorbar": {
              "outlinewidth": 0,
              "ticks": ""
             }
            },
            "type": "scattercarpet"
           }
          ],
          "scattergeo": [
           {
            "marker": {
             "colorbar": {
              "outlinewidth": 0,
              "ticks": ""
             }
            },
            "type": "scattergeo"
           }
          ],
          "scattergl": [
           {
            "marker": {
             "colorbar": {
              "outlinewidth": 0,
              "ticks": ""
             }
            },
            "type": "scattergl"
           }
          ],
          "scattermap": [
           {
            "marker": {
             "colorbar": {
              "outlinewidth": 0,
              "ticks": ""
             }
            },
            "type": "scattermap"
           }
          ],
          "scattermapbox": [
           {
            "marker": {
             "colorbar": {
              "outlinewidth": 0,
              "ticks": ""
             }
            },
            "type": "scattermapbox"
           }
          ],
          "scatterpolar": [
           {
            "marker": {
             "colorbar": {
              "outlinewidth": 0,
              "ticks": ""
             }
            },
            "type": "scatterpolar"
           }
          ],
          "scatterpolargl": [
           {
            "marker": {
             "colorbar": {
              "outlinewidth": 0,
              "ticks": ""
             }
            },
            "type": "scatterpolargl"
           }
          ],
          "scatterternary": [
           {
            "marker": {
             "colorbar": {
              "outlinewidth": 0,
              "ticks": ""
             }
            },
            "type": "scatterternary"
           }
          ],
          "surface": [
           {
            "colorbar": {
             "outlinewidth": 0,
             "ticks": ""
            },
            "colorscale": [
             [
              0,
              "#0d0887"
             ],
             [
              0.1111111111111111,
              "#46039f"
             ],
             [
              0.2222222222222222,
              "#7201a8"
             ],
             [
              0.3333333333333333,
              "#9c179e"
             ],
             [
              0.4444444444444444,
              "#bd3786"
             ],
             [
              0.5555555555555556,
              "#d8576b"
             ],
             [
              0.6666666666666666,
              "#ed7953"
             ],
             [
              0.7777777777777778,
              "#fb9f3a"
             ],
             [
              0.8888888888888888,
              "#fdca26"
             ],
             [
              1,
              "#f0f921"
             ]
            ],
            "type": "surface"
           }
          ],
          "table": [
           {
            "cells": {
             "fill": {
              "color": "#EBF0F8"
             },
             "line": {
              "color": "white"
             }
            },
            "header": {
             "fill": {
              "color": "#C8D4E3"
             },
             "line": {
              "color": "white"
             }
            },
            "type": "table"
           }
          ]
         },
         "layout": {
          "annotationdefaults": {
           "arrowcolor": "#2a3f5f",
           "arrowhead": 0,
           "arrowwidth": 1
          },
          "autotypenumbers": "strict",
          "coloraxis": {
           "colorbar": {
            "outlinewidth": 0,
            "ticks": ""
           }
          },
          "colorscale": {
           "diverging": [
            [
             0,
             "#8e0152"
            ],
            [
             0.1,
             "#c51b7d"
            ],
            [
             0.2,
             "#de77ae"
            ],
            [
             0.3,
             "#f1b6da"
            ],
            [
             0.4,
             "#fde0ef"
            ],
            [
             0.5,
             "#f7f7f7"
            ],
            [
             0.6,
             "#e6f5d0"
            ],
            [
             0.7,
             "#b8e186"
            ],
            [
             0.8,
             "#7fbc41"
            ],
            [
             0.9,
             "#4d9221"
            ],
            [
             1,
             "#276419"
            ]
           ],
           "sequential": [
            [
             0,
             "#0d0887"
            ],
            [
             0.1111111111111111,
             "#46039f"
            ],
            [
             0.2222222222222222,
             "#7201a8"
            ],
            [
             0.3333333333333333,
             "#9c179e"
            ],
            [
             0.4444444444444444,
             "#bd3786"
            ],
            [
             0.5555555555555556,
             "#d8576b"
            ],
            [
             0.6666666666666666,
             "#ed7953"
            ],
            [
             0.7777777777777778,
             "#fb9f3a"
            ],
            [
             0.8888888888888888,
             "#fdca26"
            ],
            [
             1,
             "#f0f921"
            ]
           ],
           "sequentialminus": [
            [
             0,
             "#0d0887"
            ],
            [
             0.1111111111111111,
             "#46039f"
            ],
            [
             0.2222222222222222,
             "#7201a8"
            ],
            [
             0.3333333333333333,
             "#9c179e"
            ],
            [
             0.4444444444444444,
             "#bd3786"
            ],
            [
             0.5555555555555556,
             "#d8576b"
            ],
            [
             0.6666666666666666,
             "#ed7953"
            ],
            [
             0.7777777777777778,
             "#fb9f3a"
            ],
            [
             0.8888888888888888,
             "#fdca26"
            ],
            [
             1,
             "#f0f921"
            ]
           ]
          },
          "colorway": [
           "#636efa",
           "#EF553B",
           "#00cc96",
           "#ab63fa",
           "#FFA15A",
           "#19d3f3",
           "#FF6692",
           "#B6E880",
           "#FF97FF",
           "#FECB52"
          ],
          "font": {
           "color": "#2a3f5f"
          },
          "geo": {
           "bgcolor": "white",
           "lakecolor": "white",
           "landcolor": "#E5ECF6",
           "showlakes": true,
           "showland": true,
           "subunitcolor": "white"
          },
          "hoverlabel": {
           "align": "left"
          },
          "hovermode": "closest",
          "mapbox": {
           "style": "light"
          },
          "paper_bgcolor": "white",
          "plot_bgcolor": "#E5ECF6",
          "polar": {
           "angularaxis": {
            "gridcolor": "white",
            "linecolor": "white",
            "ticks": ""
           },
           "bgcolor": "#E5ECF6",
           "radialaxis": {
            "gridcolor": "white",
            "linecolor": "white",
            "ticks": ""
           }
          },
          "scene": {
           "xaxis": {
            "backgroundcolor": "#E5ECF6",
            "gridcolor": "white",
            "gridwidth": 2,
            "linecolor": "white",
            "showbackground": true,
            "ticks": "",
            "zerolinecolor": "white"
           },
           "yaxis": {
            "backgroundcolor": "#E5ECF6",
            "gridcolor": "white",
            "gridwidth": 2,
            "linecolor": "white",
            "showbackground": true,
            "ticks": "",
            "zerolinecolor": "white"
           },
           "zaxis": {
            "backgroundcolor": "#E5ECF6",
            "gridcolor": "white",
            "gridwidth": 2,
            "linecolor": "white",
            "showbackground": true,
            "ticks": "",
            "zerolinecolor": "white"
           }
          },
          "shapedefaults": {
           "line": {
            "color": "#2a3f5f"
           }
          },
          "ternary": {
           "aaxis": {
            "gridcolor": "white",
            "linecolor": "white",
            "ticks": ""
           },
           "baxis": {
            "gridcolor": "white",
            "linecolor": "white",
            "ticks": ""
           },
           "bgcolor": "#E5ECF6",
           "caxis": {
            "gridcolor": "white",
            "linecolor": "white",
            "ticks": ""
           }
          },
          "title": {
           "x": 0.05
          },
          "xaxis": {
           "automargin": true,
           "gridcolor": "white",
           "linecolor": "white",
           "ticks": "",
           "title": {
            "standoff": 15
           },
           "zerolinecolor": "white",
           "zerolinewidth": 2
          },
          "yaxis": {
           "automargin": true,
           "gridcolor": "white",
           "linecolor": "white",
           "ticks": "",
           "title": {
            "standoff": 15
           },
           "zerolinecolor": "white",
           "zerolinewidth": 2
          }
         }
        },
        "title": {
         "text": "🎭 Sentiment Distribution Analysis"
        }
       }
      }
     },
     "metadata": {},
     "output_type": "display_data"
    },
    {
     "name": "stdout",
     "output_type": "stream",
     "text": [
      "📈 Plot 2: Processing Time vs Confidence Scatter Plot\n"
     ]
    },
    {
     "data": {
      "application/vnd.plotly.v1+json": {
       "config": {
        "plotlyServerURL": "https://plot.ly"
       },
       "data": [
        {
         "customdata": [
          [
           "Highly Positive Review"
          ],
          [
           "Mixed Review"
          ],
          [
           "Batch Review 1"
          ],
          [
           "Batch Review 3"
          ],
          [
           "Batch Review 5"
          ],
          [
           "Batch Review 6"
          ],
          [
           "Batch Review 8"
          ],
          [
           "Batch Review 9"
          ]
         ],
         "hovertemplate": "Urgency Level=low<br>Processing Time (seconds)=%{x}<br>Confidence Score=%{y}<br>toxicity=%{marker.size}<br>description=%{customdata[0]}<extra></extra>",
         "legendgroup": "low",
         "marker": {
          "color": "#2E8B57",
          "size": {
           "bdata": "AAAAAAAAAAAAAAAAAAAAAAAAAAAAAAAAAAAAAAAAAAAAAAAAAAAAAAAAAAAAAAAAAAAAAAAAAAAAAAAAAAAAAA==",
           "dtype": "f8"
          },
          "sizemode": "area",
          "sizeref": 0.00025,
          "symbol": "circle"
         },
         "mode": "markers",
         "name": "low",
         "orientation": "v",
         "showlegend": true,
         "type": "scatter",
         "x": {
          "bdata": "AAAAAMBncD8AAAAAgGFgPzMzMzOzg2w/MzMzM7ODbD8zMzMzs4NsPzMzMzOzg2w/MzMzM7ODbD8zMzMzs4NsPw==",
          "dtype": "f8"
         },
         "xaxis": "x",
         "y": {
          "bdata": "ZmZmZmZm7j8zMzMzMzPrP2ZmZmZmZu4/MzMzMzMz6z9mZmZmZmbuP2ZmZmZmZu4/MzMzMzMz6z8zMzMzMzPrPw==",
          "dtype": "f8"
         },
         "yaxis": "y"
        },
        {
         "customdata": [
          [
           "Negative Review"
          ],
          [
           "Critical Issue"
          ],
          [
           "Batch Review 10"
          ]
         ],
         "hovertemplate": "Urgency Level=high<br>Processing Time (seconds)=%{x}<br>Confidence Score=%{y}<br>toxicity=%{marker.size}<br>description=%{customdata[0]}<extra></extra>",
         "legendgroup": "high",
         "marker": {
          "color": "#DC143C",
          "size": {
           "bdata": "mpmZmZmZuT+amZmZmZm5P5qZmZmZmbk/",
           "dtype": "f8"
          },
          "sizemode": "area",
          "sizeref": 0.00025,
          "symbol": "circle"
         },
         "mode": "markers",
         "name": "high",
         "orientation": "v",
         "showlegend": true,
         "type": "scatter",
         "x": {
          "bdata": "AAAAAMBecD8AAAAAAEdpPzMzMzOzg2w/",
          "dtype": "f8"
         },
         "xaxis": "x",
         "y": {
          "bdata": "MzMzMzMz6z8zMzMzMzPrPzMzMzMzM+s/",
          "dtype": "f8"
         },
         "yaxis": "y"
        },
        {
         "customdata": [
          [
           "Batch Review 2"
          ],
          [
           "Batch Review 4"
          ],
          [
           "Batch Review 7"
          ]
         ],
         "hovertemplate": "Urgency Level=medium<br>Processing Time (seconds)=%{x}<br>Confidence Score=%{y}<br>toxicity=%{marker.size}<br>description=%{customdata[0]}<extra></extra>",
         "legendgroup": "medium",
         "marker": {
          "color": "#FF8C00",
          "size": {
           "bdata": "mpmZmZmZuT+amZmZmZm5PwAAAAAAAAAA",
           "dtype": "f8"
          },
          "sizemode": "area",
          "sizeref": 0.00025,
          "symbol": "circle"
         },
         "mode": "markers",
         "name": "medium",
         "orientation": "v",
         "showlegend": true,
         "type": "scatter",
         "x": {
          "bdata": "MzMzM7ODbD8zMzMzs4NsPzMzMzOzg2w/",
          "dtype": "f8"
         },
         "xaxis": "x",
         "y": {
          "bdata": "MzMzMzMz6z8zMzMzMzPrPzMzMzMzM+s/",
          "dtype": "f8"
         },
         "yaxis": "y"
        }
       ],
       "layout": {
        "height": 500,
        "legend": {
         "itemsizing": "constant",
         "title": {
          "text": "Urgency Level"
         },
         "tracegroupgap": 0
        },
        "showlegend": true,
        "template": {
         "data": {
          "bar": [
           {
            "error_x": {
             "color": "#2a3f5f"
            },
            "error_y": {
             "color": "#2a3f5f"
            },
            "marker": {
             "line": {
              "color": "#E5ECF6",
              "width": 0.5
             },
             "pattern": {
              "fillmode": "overlay",
              "size": 10,
              "solidity": 0.2
             }
            },
            "type": "bar"
           }
          ],
          "barpolar": [
           {
            "marker": {
             "line": {
              "color": "#E5ECF6",
              "width": 0.5
             },
             "pattern": {
              "fillmode": "overlay",
              "size": 10,
              "solidity": 0.2
             }
            },
            "type": "barpolar"
           }
          ],
          "carpet": [
           {
            "aaxis": {
             "endlinecolor": "#2a3f5f",
             "gridcolor": "white",
             "linecolor": "white",
             "minorgridcolor": "white",
             "startlinecolor": "#2a3f5f"
            },
            "baxis": {
             "endlinecolor": "#2a3f5f",
             "gridcolor": "white",
             "linecolor": "white",
             "minorgridcolor": "white",
             "startlinecolor": "#2a3f5f"
            },
            "type": "carpet"
           }
          ],
          "choropleth": [
           {
            "colorbar": {
             "outlinewidth": 0,
             "ticks": ""
            },
            "type": "choropleth"
           }
          ],
          "contour": [
           {
            "colorbar": {
             "outlinewidth": 0,
             "ticks": ""
            },
            "colorscale": [
             [
              0,
              "#0d0887"
             ],
             [
              0.1111111111111111,
              "#46039f"
             ],
             [
              0.2222222222222222,
              "#7201a8"
             ],
             [
              0.3333333333333333,
              "#9c179e"
             ],
             [
              0.4444444444444444,
              "#bd3786"
             ],
             [
              0.5555555555555556,
              "#d8576b"
             ],
             [
              0.6666666666666666,
              "#ed7953"
             ],
             [
              0.7777777777777778,
              "#fb9f3a"
             ],
             [
              0.8888888888888888,
              "#fdca26"
             ],
             [
              1,
              "#f0f921"
             ]
            ],
            "type": "contour"
           }
          ],
          "contourcarpet": [
           {
            "colorbar": {
             "outlinewidth": 0,
             "ticks": ""
            },
            "type": "contourcarpet"
           }
          ],
          "heatmap": [
           {
            "colorbar": {
             "outlinewidth": 0,
             "ticks": ""
            },
            "colorscale": [
             [
              0,
              "#0d0887"
             ],
             [
              0.1111111111111111,
              "#46039f"
             ],
             [
              0.2222222222222222,
              "#7201a8"
             ],
             [
              0.3333333333333333,
              "#9c179e"
             ],
             [
              0.4444444444444444,
              "#bd3786"
             ],
             [
              0.5555555555555556,
              "#d8576b"
             ],
             [
              0.6666666666666666,
              "#ed7953"
             ],
             [
              0.7777777777777778,
              "#fb9f3a"
             ],
             [
              0.8888888888888888,
              "#fdca26"
             ],
             [
              1,
              "#f0f921"
             ]
            ],
            "type": "heatmap"
           }
          ],
          "histogram": [
           {
            "marker": {
             "pattern": {
              "fillmode": "overlay",
              "size": 10,
              "solidity": 0.2
             }
            },
            "type": "histogram"
           }
          ],
          "histogram2d": [
           {
            "colorbar": {
             "outlinewidth": 0,
             "ticks": ""
            },
            "colorscale": [
             [
              0,
              "#0d0887"
             ],
             [
              0.1111111111111111,
              "#46039f"
             ],
             [
              0.2222222222222222,
              "#7201a8"
             ],
             [
              0.3333333333333333,
              "#9c179e"
             ],
             [
              0.4444444444444444,
              "#bd3786"
             ],
             [
              0.5555555555555556,
              "#d8576b"
             ],
             [
              0.6666666666666666,
              "#ed7953"
             ],
             [
              0.7777777777777778,
              "#fb9f3a"
             ],
             [
              0.8888888888888888,
              "#fdca26"
             ],
             [
              1,
              "#f0f921"
             ]
            ],
            "type": "histogram2d"
           }
          ],
          "histogram2dcontour": [
           {
            "colorbar": {
             "outlinewidth": 0,
             "ticks": ""
            },
            "colorscale": [
             [
              0,
              "#0d0887"
             ],
             [
              0.1111111111111111,
              "#46039f"
             ],
             [
              0.2222222222222222,
              "#7201a8"
             ],
             [
              0.3333333333333333,
              "#9c179e"
             ],
             [
              0.4444444444444444,
              "#bd3786"
             ],
             [
              0.5555555555555556,
              "#d8576b"
             ],
             [
              0.6666666666666666,
              "#ed7953"
             ],
             [
              0.7777777777777778,
              "#fb9f3a"
             ],
             [
              0.8888888888888888,
              "#fdca26"
             ],
             [
              1,
              "#f0f921"
             ]
            ],
            "type": "histogram2dcontour"
           }
          ],
          "mesh3d": [
           {
            "colorbar": {
             "outlinewidth": 0,
             "ticks": ""
            },
            "type": "mesh3d"
           }
          ],
          "parcoords": [
           {
            "line": {
             "colorbar": {
              "outlinewidth": 0,
              "ticks": ""
             }
            },
            "type": "parcoords"
           }
          ],
          "pie": [
           {
            "automargin": true,
            "type": "pie"
           }
          ],
          "scatter": [
           {
            "fillpattern": {
             "fillmode": "overlay",
             "size": 10,
             "solidity": 0.2
            },
            "type": "scatter"
           }
          ],
          "scatter3d": [
           {
            "line": {
             "colorbar": {
              "outlinewidth": 0,
              "ticks": ""
             }
            },
            "marker": {
             "colorbar": {
              "outlinewidth": 0,
              "ticks": ""
             }
            },
            "type": "scatter3d"
           }
          ],
          "scattercarpet": [
           {
            "marker": {
             "colorbar": {
              "outlinewidth": 0,
              "ticks": ""
             }
            },
            "type": "scattercarpet"
           }
          ],
          "scattergeo": [
           {
            "marker": {
             "colorbar": {
              "outlinewidth": 0,
              "ticks": ""
             }
            },
            "type": "scattergeo"
           }
          ],
          "scattergl": [
           {
            "marker": {
             "colorbar": {
              "outlinewidth": 0,
              "ticks": ""
             }
            },
            "type": "scattergl"
           }
          ],
          "scattermap": [
           {
            "marker": {
             "colorbar": {
              "outlinewidth": 0,
              "ticks": ""
             }
            },
            "type": "scattermap"
           }
          ],
          "scattermapbox": [
           {
            "marker": {
             "colorbar": {
              "outlinewidth": 0,
              "ticks": ""
             }
            },
            "type": "scattermapbox"
           }
          ],
          "scatterpolar": [
           {
            "marker": {
             "colorbar": {
              "outlinewidth": 0,
              "ticks": ""
             }
            },
            "type": "scatterpolar"
           }
          ],
          "scatterpolargl": [
           {
            "marker": {
             "colorbar": {
              "outlinewidth": 0,
              "ticks": ""
             }
            },
            "type": "scatterpolargl"
           }
          ],
          "scatterternary": [
           {
            "marker": {
             "colorbar": {
              "outlinewidth": 0,
              "ticks": ""
             }
            },
            "type": "scatterternary"
           }
          ],
          "surface": [
           {
            "colorbar": {
             "outlinewidth": 0,
             "ticks": ""
            },
            "colorscale": [
             [
              0,
              "#0d0887"
             ],
             [
              0.1111111111111111,
              "#46039f"
             ],
             [
              0.2222222222222222,
              "#7201a8"
             ],
             [
              0.3333333333333333,
              "#9c179e"
             ],
             [
              0.4444444444444444,
              "#bd3786"
             ],
             [
              0.5555555555555556,
              "#d8576b"
             ],
             [
              0.6666666666666666,
              "#ed7953"
             ],
             [
              0.7777777777777778,
              "#fb9f3a"
             ],
             [
              0.8888888888888888,
              "#fdca26"
             ],
             [
              1,
              "#f0f921"
             ]
            ],
            "type": "surface"
           }
          ],
          "table": [
           {
            "cells": {
             "fill": {
              "color": "#EBF0F8"
             },
             "line": {
              "color": "white"
             }
            },
            "header": {
             "fill": {
              "color": "#C8D4E3"
             },
             "line": {
              "color": "white"
             }
            },
            "type": "table"
           }
          ]
         },
         "layout": {
          "annotationdefaults": {
           "arrowcolor": "#2a3f5f",
           "arrowhead": 0,
           "arrowwidth": 1
          },
          "autotypenumbers": "strict",
          "coloraxis": {
           "colorbar": {
            "outlinewidth": 0,
            "ticks": ""
           }
          },
          "colorscale": {
           "diverging": [
            [
             0,
             "#8e0152"
            ],
            [
             0.1,
             "#c51b7d"
            ],
            [
             0.2,
             "#de77ae"
            ],
            [
             0.3,
             "#f1b6da"
            ],
            [
             0.4,
             "#fde0ef"
            ],
            [
             0.5,
             "#f7f7f7"
            ],
            [
             0.6,
             "#e6f5d0"
            ],
            [
             0.7,
             "#b8e186"
            ],
            [
             0.8,
             "#7fbc41"
            ],
            [
             0.9,
             "#4d9221"
            ],
            [
             1,
             "#276419"
            ]
           ],
           "sequential": [
            [
             0,
             "#0d0887"
            ],
            [
             0.1111111111111111,
             "#46039f"
            ],
            [
             0.2222222222222222,
             "#7201a8"
            ],
            [
             0.3333333333333333,
             "#9c179e"
            ],
            [
             0.4444444444444444,
             "#bd3786"
            ],
            [
             0.5555555555555556,
             "#d8576b"
            ],
            [
             0.6666666666666666,
             "#ed7953"
            ],
            [
             0.7777777777777778,
             "#fb9f3a"
            ],
            [
             0.8888888888888888,
             "#fdca26"
            ],
            [
             1,
             "#f0f921"
            ]
           ],
           "sequentialminus": [
            [
             0,
             "#0d0887"
            ],
            [
             0.1111111111111111,
             "#46039f"
            ],
            [
             0.2222222222222222,
             "#7201a8"
            ],
            [
             0.3333333333333333,
             "#9c179e"
            ],
            [
             0.4444444444444444,
             "#bd3786"
            ],
            [
             0.5555555555555556,
             "#d8576b"
            ],
            [
             0.6666666666666666,
             "#ed7953"
            ],
            [
             0.7777777777777778,
             "#fb9f3a"
            ],
            [
             0.8888888888888888,
             "#fdca26"
            ],
            [
             1,
             "#f0f921"
            ]
           ]
          },
          "colorway": [
           "#636efa",
           "#EF553B",
           "#00cc96",
           "#ab63fa",
           "#FFA15A",
           "#19d3f3",
           "#FF6692",
           "#B6E880",
           "#FF97FF",
           "#FECB52"
          ],
          "font": {
           "color": "#2a3f5f"
          },
          "geo": {
           "bgcolor": "white",
           "lakecolor": "white",
           "landcolor": "#E5ECF6",
           "showlakes": true,
           "showland": true,
           "subunitcolor": "white"
          },
          "hoverlabel": {
           "align": "left"
          },
          "hovermode": "closest",
          "mapbox": {
           "style": "light"
          },
          "paper_bgcolor": "white",
          "plot_bgcolor": "#E5ECF6",
          "polar": {
           "angularaxis": {
            "gridcolor": "white",
            "linecolor": "white",
            "ticks": ""
           },
           "bgcolor": "#E5ECF6",
           "radialaxis": {
            "gridcolor": "white",
            "linecolor": "white",
            "ticks": ""
           }
          },
          "scene": {
           "xaxis": {
            "backgroundcolor": "#E5ECF6",
            "gridcolor": "white",
            "gridwidth": 2,
            "linecolor": "white",
            "showbackground": true,
            "ticks": "",
            "zerolinecolor": "white"
           },
           "yaxis": {
            "backgroundcolor": "#E5ECF6",
            "gridcolor": "white",
            "gridwidth": 2,
            "linecolor": "white",
            "showbackground": true,
            "ticks": "",
            "zerolinecolor": "white"
           },
           "zaxis": {
            "backgroundcolor": "#E5ECF6",
            "gridcolor": "white",
            "gridwidth": 2,
            "linecolor": "white",
            "showbackground": true,
            "ticks": "",
            "zerolinecolor": "white"
           }
          },
          "shapedefaults": {
           "line": {
            "color": "#2a3f5f"
           }
          },
          "ternary": {
           "aaxis": {
            "gridcolor": "white",
            "linecolor": "white",
            "ticks": ""
           },
           "baxis": {
            "gridcolor": "white",
            "linecolor": "white",
            "ticks": ""
           },
           "bgcolor": "#E5ECF6",
           "caxis": {
            "gridcolor": "white",
            "linecolor": "white",
            "ticks": ""
           }
          },
          "title": {
           "x": 0.05
          },
          "xaxis": {
           "automargin": true,
           "gridcolor": "white",
           "linecolor": "white",
           "ticks": "",
           "title": {
            "standoff": 15
           },
           "zerolinecolor": "white",
           "zerolinewidth": 2
          },
          "yaxis": {
           "automargin": true,
           "gridcolor": "white",
           "linecolor": "white",
           "ticks": "",
           "title": {
            "standoff": 15
           },
           "zerolinecolor": "white",
           "zerolinewidth": 2
          }
         }
        },
        "title": {
         "text": "⚡ Processing Time vs Confidence Analysis"
        },
        "xaxis": {
         "anchor": "y",
         "domain": [
          0,
          1
         ],
         "title": {
          "text": "Processing Time (seconds)"
         }
        },
        "yaxis": {
         "anchor": "x",
         "domain": [
          0,
          1
         ],
         "title": {
          "text": "Confidence Score"
         }
        }
       }
      }
     },
     "metadata": {},
     "output_type": "display_data"
    },
    {
     "name": "stdout",
     "output_type": "stream",
     "text": [
      "📈 Plot 3: System Performance Radar Chart\n"
     ]
    },
    {
     "data": {
      "application/vnd.plotly.v1+json": {
       "config": {
        "plotlyServerURL": "https://plot.ly"
       },
       "data": [
        {
         "fill": "toself",
         "line": {
          "color": "rgb(46, 139, 87)"
         },
         "name": "System Performance",
         "r": [
          100,
          87.85714285714285,
          100,
          100,
          100
         ],
         "theta": [
          "Processing Speed",
          "Average Confidence",
          "High Confidence Rate",
          "Low Toxicity Rate",
          "Success Rate"
         ],
         "type": "scatterpolar"
        }
       ],
       "layout": {
        "height": 500,
        "polar": {
         "radialaxis": {
          "range": [
           0,
           100
          ],
          "visible": true
         }
        },
        "showlegend": true,
        "template": {
         "data": {
          "bar": [
           {
            "error_x": {
             "color": "#2a3f5f"
            },
            "error_y": {
             "color": "#2a3f5f"
            },
            "marker": {
             "line": {
              "color": "#E5ECF6",
              "width": 0.5
             },
             "pattern": {
              "fillmode": "overlay",
              "size": 10,
              "solidity": 0.2
             }
            },
            "type": "bar"
           }
          ],
          "barpolar": [
           {
            "marker": {
             "line": {
              "color": "#E5ECF6",
              "width": 0.5
             },
             "pattern": {
              "fillmode": "overlay",
              "size": 10,
              "solidity": 0.2
             }
            },
            "type": "barpolar"
           }
          ],
          "carpet": [
           {
            "aaxis": {
             "endlinecolor": "#2a3f5f",
             "gridcolor": "white",
             "linecolor": "white",
             "minorgridcolor": "white",
             "startlinecolor": "#2a3f5f"
            },
            "baxis": {
             "endlinecolor": "#2a3f5f",
             "gridcolor": "white",
             "linecolor": "white",
             "minorgridcolor": "white",
             "startlinecolor": "#2a3f5f"
            },
            "type": "carpet"
           }
          ],
          "choropleth": [
           {
            "colorbar": {
             "outlinewidth": 0,
             "ticks": ""
            },
            "type": "choropleth"
           }
          ],
          "contour": [
           {
            "colorbar": {
             "outlinewidth": 0,
             "ticks": ""
            },
            "colorscale": [
             [
              0,
              "#0d0887"
             ],
             [
              0.1111111111111111,
              "#46039f"
             ],
             [
              0.2222222222222222,
              "#7201a8"
             ],
             [
              0.3333333333333333,
              "#9c179e"
             ],
             [
              0.4444444444444444,
              "#bd3786"
             ],
             [
              0.5555555555555556,
              "#d8576b"
             ],
             [
              0.6666666666666666,
              "#ed7953"
             ],
             [
              0.7777777777777778,
              "#fb9f3a"
             ],
             [
              0.8888888888888888,
              "#fdca26"
             ],
             [
              1,
              "#f0f921"
             ]
            ],
            "type": "contour"
           }
          ],
          "contourcarpet": [
           {
            "colorbar": {
             "outlinewidth": 0,
             "ticks": ""
            },
            "type": "contourcarpet"
           }
          ],
          "heatmap": [
           {
            "colorbar": {
             "outlinewidth": 0,
             "ticks": ""
            },
            "colorscale": [
             [
              0,
              "#0d0887"
             ],
             [
              0.1111111111111111,
              "#46039f"
             ],
             [
              0.2222222222222222,
              "#7201a8"
             ],
             [
              0.3333333333333333,
              "#9c179e"
             ],
             [
              0.4444444444444444,
              "#bd3786"
             ],
             [
              0.5555555555555556,
              "#d8576b"
             ],
             [
              0.6666666666666666,
              "#ed7953"
             ],
             [
              0.7777777777777778,
              "#fb9f3a"
             ],
             [
              0.8888888888888888,
              "#fdca26"
             ],
             [
              1,
              "#f0f921"
             ]
            ],
            "type": "heatmap"
           }
          ],
          "histogram": [
           {
            "marker": {
             "pattern": {
              "fillmode": "overlay",
              "size": 10,
              "solidity": 0.2
             }
            },
            "type": "histogram"
           }
          ],
          "histogram2d": [
           {
            "colorbar": {
             "outlinewidth": 0,
             "ticks": ""
            },
            "colorscale": [
             [
              0,
              "#0d0887"
             ],
             [
              0.1111111111111111,
              "#46039f"
             ],
             [
              0.2222222222222222,
              "#7201a8"
             ],
             [
              0.3333333333333333,
              "#9c179e"
             ],
             [
              0.4444444444444444,
              "#bd3786"
             ],
             [
              0.5555555555555556,
              "#d8576b"
             ],
             [
              0.6666666666666666,
              "#ed7953"
             ],
             [
              0.7777777777777778,
              "#fb9f3a"
             ],
             [
              0.8888888888888888,
              "#fdca26"
             ],
             [
              1,
              "#f0f921"
             ]
            ],
            "type": "histogram2d"
           }
          ],
          "histogram2dcontour": [
           {
            "colorbar": {
             "outlinewidth": 0,
             "ticks": ""
            },
            "colorscale": [
             [
              0,
              "#0d0887"
             ],
             [
              0.1111111111111111,
              "#46039f"
             ],
             [
              0.2222222222222222,
              "#7201a8"
             ],
             [
              0.3333333333333333,
              "#9c179e"
             ],
             [
              0.4444444444444444,
              "#bd3786"
             ],
             [
              0.5555555555555556,
              "#d8576b"
             ],
             [
              0.6666666666666666,
              "#ed7953"
             ],
             [
              0.7777777777777778,
              "#fb9f3a"
             ],
             [
              0.8888888888888888,
              "#fdca26"
             ],
             [
              1,
              "#f0f921"
             ]
            ],
            "type": "histogram2dcontour"
           }
          ],
          "mesh3d": [
           {
            "colorbar": {
             "outlinewidth": 0,
             "ticks": ""
            },
            "type": "mesh3d"
           }
          ],
          "parcoords": [
           {
            "line": {
             "colorbar": {
              "outlinewidth": 0,
              "ticks": ""
             }
            },
            "type": "parcoords"
           }
          ],
          "pie": [
           {
            "automargin": true,
            "type": "pie"
           }
          ],
          "scatter": [
           {
            "fillpattern": {
             "fillmode": "overlay",
             "size": 10,
             "solidity": 0.2
            },
            "type": "scatter"
           }
          ],
          "scatter3d": [
           {
            "line": {
             "colorbar": {
              "outlinewidth": 0,
              "ticks": ""
             }
            },
            "marker": {
             "colorbar": {
              "outlinewidth": 0,
              "ticks": ""
             }
            },
            "type": "scatter3d"
           }
          ],
          "scattercarpet": [
           {
            "marker": {
             "colorbar": {
              "outlinewidth": 0,
              "ticks": ""
             }
            },
            "type": "scattercarpet"
           }
          ],
          "scattergeo": [
           {
            "marker": {
             "colorbar": {
              "outlinewidth": 0,
              "ticks": ""
             }
            },
            "type": "scattergeo"
           }
          ],
          "scattergl": [
           {
            "marker": {
             "colorbar": {
              "outlinewidth": 0,
              "ticks": ""
             }
            },
            "type": "scattergl"
           }
          ],
          "scattermap": [
           {
            "marker": {
             "colorbar": {
              "outlinewidth": 0,
              "ticks": ""
             }
            },
            "type": "scattermap"
           }
          ],
          "scattermapbox": [
           {
            "marker": {
             "colorbar": {
              "outlinewidth": 0,
              "ticks": ""
             }
            },
            "type": "scattermapbox"
           }
          ],
          "scatterpolar": [
           {
            "marker": {
             "colorbar": {
              "outlinewidth": 0,
              "ticks": ""
             }
            },
            "type": "scatterpolar"
           }
          ],
          "scatterpolargl": [
           {
            "marker": {
             "colorbar": {
              "outlinewidth": 0,
              "ticks": ""
             }
            },
            "type": "scatterpolargl"
           }
          ],
          "scatterternary": [
           {
            "marker": {
             "colorbar": {
              "outlinewidth": 0,
              "ticks": ""
             }
            },
            "type": "scatterternary"
           }
          ],
          "surface": [
           {
            "colorbar": {
             "outlinewidth": 0,
             "ticks": ""
            },
            "colorscale": [
             [
              0,
              "#0d0887"
             ],
             [
              0.1111111111111111,
              "#46039f"
             ],
             [
              0.2222222222222222,
              "#7201a8"
             ],
             [
              0.3333333333333333,
              "#9c179e"
             ],
             [
              0.4444444444444444,
              "#bd3786"
             ],
             [
              0.5555555555555556,
              "#d8576b"
             ],
             [
              0.6666666666666666,
              "#ed7953"
             ],
             [
              0.7777777777777778,
              "#fb9f3a"
             ],
             [
              0.8888888888888888,
              "#fdca26"
             ],
             [
              1,
              "#f0f921"
             ]
            ],
            "type": "surface"
           }
          ],
          "table": [
           {
            "cells": {
             "fill": {
              "color": "#EBF0F8"
             },
             "line": {
              "color": "white"
             }
            },
            "header": {
             "fill": {
              "color": "#C8D4E3"
             },
             "line": {
              "color": "white"
             }
            },
            "type": "table"
           }
          ]
         },
         "layout": {
          "annotationdefaults": {
           "arrowcolor": "#2a3f5f",
           "arrowhead": 0,
           "arrowwidth": 1
          },
          "autotypenumbers": "strict",
          "coloraxis": {
           "colorbar": {
            "outlinewidth": 0,
            "ticks": ""
           }
          },
          "colorscale": {
           "diverging": [
            [
             0,
             "#8e0152"
            ],
            [
             0.1,
             "#c51b7d"
            ],
            [
             0.2,
             "#de77ae"
            ],
            [
             0.3,
             "#f1b6da"
            ],
            [
             0.4,
             "#fde0ef"
            ],
            [
             0.5,
             "#f7f7f7"
            ],
            [
             0.6,
             "#e6f5d0"
            ],
            [
             0.7,
             "#b8e186"
            ],
            [
             0.8,
             "#7fbc41"
            ],
            [
             0.9,
             "#4d9221"
            ],
            [
             1,
             "#276419"
            ]
           ],
           "sequential": [
            [
             0,
             "#0d0887"
            ],
            [
             0.1111111111111111,
             "#46039f"
            ],
            [
             0.2222222222222222,
             "#7201a8"
            ],
            [
             0.3333333333333333,
             "#9c179e"
            ],
            [
             0.4444444444444444,
             "#bd3786"
            ],
            [
             0.5555555555555556,
             "#d8576b"
            ],
            [
             0.6666666666666666,
             "#ed7953"
            ],
            [
             0.7777777777777778,
             "#fb9f3a"
            ],
            [
             0.8888888888888888,
             "#fdca26"
            ],
            [
             1,
             "#f0f921"
            ]
           ],
           "sequentialminus": [
            [
             0,
             "#0d0887"
            ],
            [
             0.1111111111111111,
             "#46039f"
            ],
            [
             0.2222222222222222,
             "#7201a8"
            ],
            [
             0.3333333333333333,
             "#9c179e"
            ],
            [
             0.4444444444444444,
             "#bd3786"
            ],
            [
             0.5555555555555556,
             "#d8576b"
            ],
            [
             0.6666666666666666,
             "#ed7953"
            ],
            [
             0.7777777777777778,
             "#fb9f3a"
            ],
            [
             0.8888888888888888,
             "#fdca26"
            ],
            [
             1,
             "#f0f921"
            ]
           ]
          },
          "colorway": [
           "#636efa",
           "#EF553B",
           "#00cc96",
           "#ab63fa",
           "#FFA15A",
           "#19d3f3",
           "#FF6692",
           "#B6E880",
           "#FF97FF",
           "#FECB52"
          ],
          "font": {
           "color": "#2a3f5f"
          },
          "geo": {
           "bgcolor": "white",
           "lakecolor": "white",
           "landcolor": "#E5ECF6",
           "showlakes": true,
           "showland": true,
           "subunitcolor": "white"
          },
          "hoverlabel": {
           "align": "left"
          },
          "hovermode": "closest",
          "mapbox": {
           "style": "light"
          },
          "paper_bgcolor": "white",
          "plot_bgcolor": "#E5ECF6",
          "polar": {
           "angularaxis": {
            "gridcolor": "white",
            "linecolor": "white",
            "ticks": ""
           },
           "bgcolor": "#E5ECF6",
           "radialaxis": {
            "gridcolor": "white",
            "linecolor": "white",
            "ticks": ""
           }
          },
          "scene": {
           "xaxis": {
            "backgroundcolor": "#E5ECF6",
            "gridcolor": "white",
            "gridwidth": 2,
            "linecolor": "white",
            "showbackground": true,
            "ticks": "",
            "zerolinecolor": "white"
           },
           "yaxis": {
            "backgroundcolor": "#E5ECF6",
            "gridcolor": "white",
            "gridwidth": 2,
            "linecolor": "white",
            "showbackground": true,
            "ticks": "",
            "zerolinecolor": "white"
           },
           "zaxis": {
            "backgroundcolor": "#E5ECF6",
            "gridcolor": "white",
            "gridwidth": 2,
            "linecolor": "white",
            "showbackground": true,
            "ticks": "",
            "zerolinecolor": "white"
           }
          },
          "shapedefaults": {
           "line": {
            "color": "#2a3f5f"
           }
          },
          "ternary": {
           "aaxis": {
            "gridcolor": "white",
            "linecolor": "white",
            "ticks": ""
           },
           "baxis": {
            "gridcolor": "white",
            "linecolor": "white",
            "ticks": ""
           },
           "bgcolor": "#E5ECF6",
           "caxis": {
            "gridcolor": "white",
            "linecolor": "white",
            "ticks": ""
           }
          },
          "title": {
           "x": 0.05
          },
          "xaxis": {
           "automargin": true,
           "gridcolor": "white",
           "linecolor": "white",
           "ticks": "",
           "title": {
            "standoff": 15
           },
           "zerolinecolor": "white",
           "zerolinewidth": 2
          },
          "yaxis": {
           "automargin": true,
           "gridcolor": "white",
           "linecolor": "white",
           "ticks": "",
           "title": {
            "standoff": 15
           },
           "zerolinecolor": "white",
           "zerolinewidth": 2
          }
         }
        },
        "title": {
         "text": "📊 System Performance Dashboard"
        }
       }
      }
     },
     "metadata": {},
     "output_type": "display_data"
    },
    {
     "name": "stdout",
     "output_type": "stream",
     "text": [
      "📈 Plot 4: Emotion Analysis Heatmap\n"
     ]
    },
    {
     "data": {
      "application/vnd.plotly.v1+json": {
       "config": {
        "plotlyServerURL": "https://plot.ly"
       },
       "data": [
        {
         "colorbar": {
          "title": {
           "text": "Emotion Intensity"
          }
         },
         "colorscale": [
          [
           0,
           "rgb(49,54,149)"
          ],
          [
           0.1,
           "rgb(69,117,180)"
          ],
          [
           0.2,
           "rgb(116,173,209)"
          ],
          [
           0.3,
           "rgb(171,217,233)"
          ],
          [
           0.4,
           "rgb(224,243,248)"
          ],
          [
           0.5,
           "rgb(255,255,191)"
          ],
          [
           0.6,
           "rgb(254,224,144)"
          ],
          [
           0.7,
           "rgb(253,174,97)"
          ],
          [
           0.8,
           "rgb(244,109,67)"
          ],
          [
           0.9,
           "rgb(215,48,39)"
          ],
          [
           1,
           "rgb(165,0,38)"
          ]
         ],
         "type": "heatmap",
         "x": [
          "Joy",
          "Anger",
          "Sadness",
          "Fear",
          "Surprise",
          "Disgust",
          "Trust",
          "Anticipation"
         ],
         "y": [
          "Highly Positive Review",
          "Negative Review",
          "Mixed Review",
          "Critical Issue"
         ],
         "z": [
          [
           0.9,
           0,
           0,
           0,
           0.5,
           0,
           0.8,
           0.7
          ],
          [
           0,
           0.8,
           0.6,
           0.1,
           0,
           0.7,
           0.2,
           0.1
          ],
          [
           0.3,
           0.1,
           0.2,
           0,
           0.1,
           0,
           0.5,
           0.4
          ],
          [
           0,
           0.9,
           0.2,
           0.5,
           0.3,
           0.1,
           0,
           0.4
          ]
         ],
         "zmid": 0.5
        }
       ],
       "layout": {
        "height": 400,
        "template": {
         "data": {
          "bar": [
           {
            "error_x": {
             "color": "#2a3f5f"
            },
            "error_y": {
             "color": "#2a3f5f"
            },
            "marker": {
             "line": {
              "color": "#E5ECF6",
              "width": 0.5
             },
             "pattern": {
              "fillmode": "overlay",
              "size": 10,
              "solidity": 0.2
             }
            },
            "type": "bar"
           }
          ],
          "barpolar": [
           {
            "marker": {
             "line": {
              "color": "#E5ECF6",
              "width": 0.5
             },
             "pattern": {
              "fillmode": "overlay",
              "size": 10,
              "solidity": 0.2
             }
            },
            "type": "barpolar"
           }
          ],
          "carpet": [
           {
            "aaxis": {
             "endlinecolor": "#2a3f5f",
             "gridcolor": "white",
             "linecolor": "white",
             "minorgridcolor": "white",
             "startlinecolor": "#2a3f5f"
            },
            "baxis": {
             "endlinecolor": "#2a3f5f",
             "gridcolor": "white",
             "linecolor": "white",
             "minorgridcolor": "white",
             "startlinecolor": "#2a3f5f"
            },
            "type": "carpet"
           }
          ],
          "choropleth": [
           {
            "colorbar": {
             "outlinewidth": 0,
             "ticks": ""
            },
            "type": "choropleth"
           }
          ],
          "contour": [
           {
            "colorbar": {
             "outlinewidth": 0,
             "ticks": ""
            },
            "colorscale": [
             [
              0,
              "#0d0887"
             ],
             [
              0.1111111111111111,
              "#46039f"
             ],
             [
              0.2222222222222222,
              "#7201a8"
             ],
             [
              0.3333333333333333,
              "#9c179e"
             ],
             [
              0.4444444444444444,
              "#bd3786"
             ],
             [
              0.5555555555555556,
              "#d8576b"
             ],
             [
              0.6666666666666666,
              "#ed7953"
             ],
             [
              0.7777777777777778,
              "#fb9f3a"
             ],
             [
              0.8888888888888888,
              "#fdca26"
             ],
             [
              1,
              "#f0f921"
             ]
            ],
            "type": "contour"
           }
          ],
          "contourcarpet": [
           {
            "colorbar": {
             "outlinewidth": 0,
             "ticks": ""
            },
            "type": "contourcarpet"
           }
          ],
          "heatmap": [
           {
            "colorbar": {
             "outlinewidth": 0,
             "ticks": ""
            },
            "colorscale": [
             [
              0,
              "#0d0887"
             ],
             [
              0.1111111111111111,
              "#46039f"
             ],
             [
              0.2222222222222222,
              "#7201a8"
             ],
             [
              0.3333333333333333,
              "#9c179e"
             ],
             [
              0.4444444444444444,
              "#bd3786"
             ],
             [
              0.5555555555555556,
              "#d8576b"
             ],
             [
              0.6666666666666666,
              "#ed7953"
             ],
             [
              0.7777777777777778,
              "#fb9f3a"
             ],
             [
              0.8888888888888888,
              "#fdca26"
             ],
             [
              1,
              "#f0f921"
             ]
            ],
            "type": "heatmap"
           }
          ],
          "histogram": [
           {
            "marker": {
             "pattern": {
              "fillmode": "overlay",
              "size": 10,
              "solidity": 0.2
             }
            },
            "type": "histogram"
           }
          ],
          "histogram2d": [
           {
            "colorbar": {
             "outlinewidth": 0,
             "ticks": ""
            },
            "colorscale": [
             [
              0,
              "#0d0887"
             ],
             [
              0.1111111111111111,
              "#46039f"
             ],
             [
              0.2222222222222222,
              "#7201a8"
             ],
             [
              0.3333333333333333,
              "#9c179e"
             ],
             [
              0.4444444444444444,
              "#bd3786"
             ],
             [
              0.5555555555555556,
              "#d8576b"
             ],
             [
              0.6666666666666666,
              "#ed7953"
             ],
             [
              0.7777777777777778,
              "#fb9f3a"
             ],
             [
              0.8888888888888888,
              "#fdca26"
             ],
             [
              1,
              "#f0f921"
             ]
            ],
            "type": "histogram2d"
           }
          ],
          "histogram2dcontour": [
           {
            "colorbar": {
             "outlinewidth": 0,
             "ticks": ""
            },
            "colorscale": [
             [
              0,
              "#0d0887"
             ],
             [
              0.1111111111111111,
              "#46039f"
             ],
             [
              0.2222222222222222,
              "#7201a8"
             ],
             [
              0.3333333333333333,
              "#9c179e"
             ],
             [
              0.4444444444444444,
              "#bd3786"
             ],
             [
              0.5555555555555556,
              "#d8576b"
             ],
             [
              0.6666666666666666,
              "#ed7953"
             ],
             [
              0.7777777777777778,
              "#fb9f3a"
             ],
             [
              0.8888888888888888,
              "#fdca26"
             ],
             [
              1,
              "#f0f921"
             ]
            ],
            "type": "histogram2dcontour"
           }
          ],
          "mesh3d": [
           {
            "colorbar": {
             "outlinewidth": 0,
             "ticks": ""
            },
            "type": "mesh3d"
           }
          ],
          "parcoords": [
           {
            "line": {
             "colorbar": {
              "outlinewidth": 0,
              "ticks": ""
             }
            },
            "type": "parcoords"
           }
          ],
          "pie": [
           {
            "automargin": true,
            "type": "pie"
           }
          ],
          "scatter": [
           {
            "fillpattern": {
             "fillmode": "overlay",
             "size": 10,
             "solidity": 0.2
            },
            "type": "scatter"
           }
          ],
          "scatter3d": [
           {
            "line": {
             "colorbar": {
              "outlinewidth": 0,
              "ticks": ""
             }
            },
            "marker": {
             "colorbar": {
              "outlinewidth": 0,
              "ticks": ""
             }
            },
            "type": "scatter3d"
           }
          ],
          "scattercarpet": [
           {
            "marker": {
             "colorbar": {
              "outlinewidth": 0,
              "ticks": ""
             }
            },
            "type": "scattercarpet"
           }
          ],
          "scattergeo": [
           {
            "marker": {
             "colorbar": {
              "outlinewidth": 0,
              "ticks": ""
             }
            },
            "type": "scattergeo"
           }
          ],
          "scattergl": [
           {
            "marker": {
             "colorbar": {
              "outlinewidth": 0,
              "ticks": ""
             }
            },
            "type": "scattergl"
           }
          ],
          "scattermap": [
           {
            "marker": {
             "colorbar": {
              "outlinewidth": 0,
              "ticks": ""
             }
            },
            "type": "scattermap"
           }
          ],
          "scattermapbox": [
           {
            "marker": {
             "colorbar": {
              "outlinewidth": 0,
              "ticks": ""
             }
            },
            "type": "scattermapbox"
           }
          ],
          "scatterpolar": [
           {
            "marker": {
             "colorbar": {
              "outlinewidth": 0,
              "ticks": ""
             }
            },
            "type": "scatterpolar"
           }
          ],
          "scatterpolargl": [
           {
            "marker": {
             "colorbar": {
              "outlinewidth": 0,
              "ticks": ""
             }
            },
            "type": "scatterpolargl"
           }
          ],
          "scatterternary": [
           {
            "marker": {
             "colorbar": {
              "outlinewidth": 0,
              "ticks": ""
             }
            },
            "type": "scatterternary"
           }
          ],
          "surface": [
           {
            "colorbar": {
             "outlinewidth": 0,
             "ticks": ""
            },
            "colorscale": [
             [
              0,
              "#0d0887"
             ],
             [
              0.1111111111111111,
              "#46039f"
             ],
             [
              0.2222222222222222,
              "#7201a8"
             ],
             [
              0.3333333333333333,
              "#9c179e"
             ],
             [
              0.4444444444444444,
              "#bd3786"
             ],
             [
              0.5555555555555556,
              "#d8576b"
             ],
             [
              0.6666666666666666,
              "#ed7953"
             ],
             [
              0.7777777777777778,
              "#fb9f3a"
             ],
             [
              0.8888888888888888,
              "#fdca26"
             ],
             [
              1,
              "#f0f921"
             ]
            ],
            "type": "surface"
           }
          ],
          "table": [
           {
            "cells": {
             "fill": {
              "color": "#EBF0F8"
             },
             "line": {
              "color": "white"
             }
            },
            "header": {
             "fill": {
              "color": "#C8D4E3"
             },
             "line": {
              "color": "white"
             }
            },
            "type": "table"
           }
          ]
         },
         "layout": {
          "annotationdefaults": {
           "arrowcolor": "#2a3f5f",
           "arrowhead": 0,
           "arrowwidth": 1
          },
          "autotypenumbers": "strict",
          "coloraxis": {
           "colorbar": {
            "outlinewidth": 0,
            "ticks": ""
           }
          },
          "colorscale": {
           "diverging": [
            [
             0,
             "#8e0152"
            ],
            [
             0.1,
             "#c51b7d"
            ],
            [
             0.2,
             "#de77ae"
            ],
            [
             0.3,
             "#f1b6da"
            ],
            [
             0.4,
             "#fde0ef"
            ],
            [
             0.5,
             "#f7f7f7"
            ],
            [
             0.6,
             "#e6f5d0"
            ],
            [
             0.7,
             "#b8e186"
            ],
            [
             0.8,
             "#7fbc41"
            ],
            [
             0.9,
             "#4d9221"
            ],
            [
             1,
             "#276419"
            ]
           ],
           "sequential": [
            [
             0,
             "#0d0887"
            ],
            [
             0.1111111111111111,
             "#46039f"
            ],
            [
             0.2222222222222222,
             "#7201a8"
            ],
            [
             0.3333333333333333,
             "#9c179e"
            ],
            [
             0.4444444444444444,
             "#bd3786"
            ],
            [
             0.5555555555555556,
             "#d8576b"
            ],
            [
             0.6666666666666666,
             "#ed7953"
            ],
            [
             0.7777777777777778,
             "#fb9f3a"
            ],
            [
             0.8888888888888888,
             "#fdca26"
            ],
            [
             1,
             "#f0f921"
            ]
           ],
           "sequentialminus": [
            [
             0,
             "#0d0887"
            ],
            [
             0.1111111111111111,
             "#46039f"
            ],
            [
             0.2222222222222222,
             "#7201a8"
            ],
            [
             0.3333333333333333,
             "#9c179e"
            ],
            [
             0.4444444444444444,
             "#bd3786"
            ],
            [
             0.5555555555555556,
             "#d8576b"
            ],
            [
             0.6666666666666666,
             "#ed7953"
            ],
            [
             0.7777777777777778,
             "#fb9f3a"
            ],
            [
             0.8888888888888888,
             "#fdca26"
            ],
            [
             1,
             "#f0f921"
            ]
           ]
          },
          "colorway": [
           "#636efa",
           "#EF553B",
           "#00cc96",
           "#ab63fa",
           "#FFA15A",
           "#19d3f3",
           "#FF6692",
           "#B6E880",
           "#FF97FF",
           "#FECB52"
          ],
          "font": {
           "color": "#2a3f5f"
          },
          "geo": {
           "bgcolor": "white",
           "lakecolor": "white",
           "landcolor": "#E5ECF6",
           "showlakes": true,
           "showland": true,
           "subunitcolor": "white"
          },
          "hoverlabel": {
           "align": "left"
          },
          "hovermode": "closest",
          "mapbox": {
           "style": "light"
          },
          "paper_bgcolor": "white",
          "plot_bgcolor": "#E5ECF6",
          "polar": {
           "angularaxis": {
            "gridcolor": "white",
            "linecolor": "white",
            "ticks": ""
           },
           "bgcolor": "#E5ECF6",
           "radialaxis": {
            "gridcolor": "white",
            "linecolor": "white",
            "ticks": ""
           }
          },
          "scene": {
           "xaxis": {
            "backgroundcolor": "#E5ECF6",
            "gridcolor": "white",
            "gridwidth": 2,
            "linecolor": "white",
            "showbackground": true,
            "ticks": "",
            "zerolinecolor": "white"
           },
           "yaxis": {
            "backgroundcolor": "#E5ECF6",
            "gridcolor": "white",
            "gridwidth": 2,
            "linecolor": "white",
            "showbackground": true,
            "ticks": "",
            "zerolinecolor": "white"
           },
           "zaxis": {
            "backgroundcolor": "#E5ECF6",
            "gridcolor": "white",
            "gridwidth": 2,
            "linecolor": "white",
            "showbackground": true,
            "ticks": "",
            "zerolinecolor": "white"
           }
          },
          "shapedefaults": {
           "line": {
            "color": "#2a3f5f"
           }
          },
          "ternary": {
           "aaxis": {
            "gridcolor": "white",
            "linecolor": "white",
            "ticks": ""
           },
           "baxis": {
            "gridcolor": "white",
            "linecolor": "white",
            "ticks": ""
           },
           "bgcolor": "#E5ECF6",
           "caxis": {
            "gridcolor": "white",
            "linecolor": "white",
            "ticks": ""
           }
          },
          "title": {
           "x": 0.05
          },
          "xaxis": {
           "automargin": true,
           "gridcolor": "white",
           "linecolor": "white",
           "ticks": "",
           "title": {
            "standoff": 15
           },
           "zerolinecolor": "white",
           "zerolinewidth": 2
          },
          "yaxis": {
           "automargin": true,
           "gridcolor": "white",
           "linecolor": "white",
           "ticks": "",
           "title": {
            "standoff": 15
           },
           "zerolinecolor": "white",
           "zerolinewidth": 2
          }
         }
        },
        "title": {
         "text": "🎭 Emotion Analysis Heatmap"
        },
        "xaxis": {
         "title": {
          "text": "Emotions"
         }
        },
        "yaxis": {
         "title": {
          "text": "Reviews"
         }
        }
       }
      }
     },
     "metadata": {},
     "output_type": "display_data"
    },
    {
     "name": "stdout",
     "output_type": "stream",
     "text": [
      "\n",
      "\n",
      "📊 BUSINESS INSIGHTS AND ANALYTICS\n",
      "----------------------------------------\n",
      "📈 Key Business Metrics:\n",
      "• Total Reviews Processed: 14\n",
      "• Average System Confidence: 87.86%\n",
      "• Processing Speed: 287.3 reviews/second\n",
      "• Dominant Sentiment: positive\n",
      "\n",
      "🎭 Sentiment Breakdown:\n",
      "   Positive: 6 (27.3%) ██\n",
      "   Disappointed: 4 (18.2%) █\n",
      "   Negative: 6 (27.3%) ██\n",
      "   Neutral: 1 (4.5%) \n",
      "   Constructive: 1 (4.5%) \n",
      "   Frustrated: 2 (9.1%) \n",
      "   Urgent: 1 (4.5%) \n",
      "   Mixed: 1 (4.5%) \n",
      "\n",
      "💾 EXPORTING RESULTS\n",
      "--------------------\n",
      "✅ Results exported to: c:\\Users\\ahpuh\\Desktop\\hg\\sentiment_analysis_results.csv\n",
      "📊 Interactive plots saved to: c:\\Users\\ahpuh\\Desktop\\hg\\sentiment_plots\n",
      "\n",
      "============================================================\n",
      "🎉 SENTIMENT ANALYSIS EXAMPLE COMPLETE!\n",
      "============================================================\n",
      "\n",
      "✅ DEMONSTRATED FEATURES:\n",
      "   ✓ Individual review analysis with detailed insights\n",
      "   ✓ Batch processing for multiple reviews\n",
      "   ✓ Interactive visualizations with Plotly\n",
      "   ✓ Sentiment distribution analysis\n",
      "   ✓ Performance monitoring and metrics\n",
      "   ✓ Response generation for customer service\n",
      "   ✓ Business intelligence reporting\n",
      "   ✓ Data export to CSV and HTML plots\n",
      "\n",
      "🎯 USAGE SUMMARY:\n",
      "   • Analyzed 4 individual reviews\n",
      "   • Processed 10 reviews in batch\n",
      "   • Average processing speed: 287.3 reviews/second\n",
      "   • System confidence: 87.86%\n",
      "   • Generated 4 automated responses\n",
      "\n",
      "📁 GENERATED FILES:\n",
      "   • CSV Results: sentiment_analysis_results.csv\n",
      "   • Interactive Plots: sentiment_plots/ directory\n",
      "   • HTML Visualizations: Ready for sharing and embedding\n",
      "\n",
      "🚀 HOW TO USE THIS SYSTEM:\n",
      "   1. Load your review data (CSV, JSON, or direct input)\n",
      "   2. Use analyzer.analyze_review(text, category) for single reviews\n",
      "   3. Use analyzer.analyze_batch() for multiple reviews\n",
      "   4. Generate responses with response_system.generate_contextual_response()\n",
      "   5. Create visualizations with the built-in plotting functions\n",
      "   6. Export results and share insights with stakeholders\n",
      "\n",
      "============================================================\n",
      "🌟 SYSTEM READY FOR PRODUCTION USE!\n",
      "📊 All visualizations created and data exported\n",
      "🔧 Optimized for real-world sentiment analysis tasks\n",
      "============================================================\n"
     ]
    }
   ],
   "source": [
    "# ================================================================================================\n",
    "# 13. PRACTICAL USAGE EXAMPLE WITH VISUALIZATIONS\n",
    "# ================================================================================================\n",
    "\n",
    "print(\"🎯 PRACTICAL SENTIMENT ANALYSIS SYSTEM EXAMPLE\")\n",
    "print(\"=\"*60)\n",
    "print(\"📊 This example shows how to use the system with real data and create plots\")\n",
    "print(\"=\"*60)\n",
    "\n",
    "import time\n",
    "import warnings\n",
    "warnings.filterwarnings('ignore')\n",
    "\n",
    "# ================================================================================================\n",
    "# EXAMPLE 1: ANALYZE INDIVIDUAL REVIEWS\n",
    "# ================================================================================================\n",
    "\n",
    "print(\"\\n🔍 EXAMPLE 1: INDIVIDUAL REVIEW ANALYSIS\")\n",
    "print(\"-\" * 45)\n",
    "\n",
    "# Sample reviews for demonstration\n",
    "sample_reviews = [\n",
    "    {\n",
    "        'text': \"This smartphone is absolutely amazing! The camera quality is outstanding, battery life is excellent, and the interface is so intuitive. Best purchase I've made this year!\",\n",
    "        'category': 'electronics',\n",
    "        'description': 'Highly Positive Review'\n",
    "    },\n",
    "    {\n",
    "        'text': \"I'm really disappointed with this laptop. It overheats constantly, the battery dies quickly, and customer service was unhelpful. Waste of money!\",\n",
    "        'category': 'electronics', \n",
    "        'description': 'Negative Review'\n",
    "    },\n",
    "    {\n",
    "        'text': \"The product is decent for the price. Good build quality but nothing exceptional. Average performance, would consider alternatives next time.\",\n",
    "        'category': 'electronics',\n",
    "        'description': 'Mixed Review'\n",
    "    },\n",
    "    {\n",
    "        'text': \"URGENT: System crashed during critical presentation! This is completely unacceptable. Need immediate technical support!\",\n",
    "        'category': 'business_software',\n",
    "        'description': 'Critical Issue'\n",
    "    }\n",
    "]\n",
    "\n",
    "# Analyze each review\n",
    "analysis_results = []\n",
    "\n",
    "for i, review in enumerate(sample_reviews, 1):\n",
    "    print(f\"\\n📝 Review {i}: {review['description']}\")\n",
    "    print(f\"Text: {review['text'][:80]}...\")\n",
    "    print(\"-\" * 40)\n",
    "    \n",
    "    # Perform analysis\n",
    "    start_time = time.time()\n",
    "    result = analyzer.analyze_review(review['text'], review['category'])\n",
    "    processing_time = time.time() - start_time\n",
    "    \n",
    "    # Generate response\n",
    "    response = response_system.generate_contextual_response(\n",
    "        review['text'], result, response_tone=\"professional\"\n",
    "    )\n",
    "    \n",
    "    # Display results\n",
    "    print(f\"🎯 Analysis Results:\")\n",
    "    print(f\"   • Primary Sentiments: {', '.join(result.primary_sentiments)}\")\n",
    "    print(f\"   • Confidence Score: {result.confidence_score:.3f}\")\n",
    "    print(f\"   • Urgency Level: {result.urgency_level}\")\n",
    "    print(f\"   • Toxicity Score: {result.toxicity_score:.3f}\")\n",
    "    print(f\"   • Business Impact: {result.business_impact}\")\n",
    "    print(f\"   • Processing Time: {processing_time:.3f}s\")\n",
    "    \n",
    "    if result.emotion_scores:\n",
    "        top_emotions = sorted(result.emotion_scores.items(), key=lambda x: x[1], reverse=True)[:3]\n",
    "        print(f\"   • Top Emotions: {', '.join([f'{emotion} ({score:.2f})' for emotion, score in top_emotions])}\")\n",
    "    \n",
    "    print(f\"\\n💬 Generated Response:\")\n",
    "    print(f\"   • Strategy: {response.get('response_strategy', 'unknown')}\")\n",
    "    print(f\"   • Escalation Needed: {response.get('escalation_needed', False)}\")\n",
    "    print(f\"   • Response Preview: {response.get('response_text', '')[:100]}...\")\n",
    "    \n",
    "    # Store results for visualization\n",
    "    analysis_results.append({\n",
    "        'review_id': i,\n",
    "        'description': review['description'],\n",
    "        'category': review['category'],\n",
    "        'sentiments': result.primary_sentiments,\n",
    "        'confidence': result.confidence_score,\n",
    "        'urgency': result.urgency_level,\n",
    "        'toxicity': result.toxicity_score,\n",
    "        'emotions': result.emotion_scores,\n",
    "        'aspects': result.aspect_sentiments,\n",
    "        'processing_time': processing_time,\n",
    "        'response_generated': bool(response.get('response_text')),\n",
    "        'escalated': response.get('escalation_needed', False)\n",
    "    })\n",
    "\n",
    "print(f\"\\n✅ Analyzed {len(sample_reviews)} reviews successfully!\")\n",
    "\n",
    "# ================================================================================================\n",
    "# EXAMPLE 2: BATCH PROCESSING\n",
    "# ================================================================================================\n",
    "\n",
    "print(\"\\n\\n⚡ EXAMPLE 2: BATCH PROCESSING DEMONSTRATION\")\n",
    "print(\"-\" * 45)\n",
    "\n",
    "# Create batch data\n",
    "batch_reviews = [\n",
    "    (\"Amazing product quality and fast shipping!\", \"ecommerce\"),\n",
    "    (\"Terrible customer service, very disappointed\", \"ecommerce\"),\n",
    "    (\"Good value for money, decent quality\", \"ecommerce\"),\n",
    "    (\"Product broke after one week, poor quality\", \"ecommerce\"),\n",
    "    (\"Exceeded expectations, highly recommend!\", \"ecommerce\"),\n",
    "    (\"Outstanding food and excellent service!\", \"hospitality\"),\n",
    "    (\"Food was cold and service was slow\", \"hospitality\"),\n",
    "    (\"Nice atmosphere but overpriced\", \"hospitality\"),\n",
    "    (\"User-friendly interface and great features\", \"software\"),\n",
    "    (\"Bugs everywhere, constantly crashes\", \"software\"),\n",
    "]\n",
    "\n",
    "print(f\"🔄 Processing {len(batch_reviews)} reviews in batch mode...\")\n",
    "\n",
    "# Process batch\n",
    "batch_start = time.time()\n",
    "batch_results = analyzer.analyze_batch(batch_reviews, parallel=True)\n",
    "batch_time = time.time() - batch_start\n",
    "\n",
    "print(f\"✅ Batch processing completed in {batch_time:.2f} seconds\")\n",
    "print(f\"⚡ Processing speed: {len(batch_reviews)/batch_time:.1f} reviews/second\")\n",
    "\n",
    "# Analyze batch results\n",
    "sentiments_count = {}\n",
    "urgency_count = {}\n",
    "confidence_scores = []\n",
    "\n",
    "for result in batch_results:\n",
    "    for sentiment in result.primary_sentiments:\n",
    "        sentiments_count[sentiment] = sentiments_count.get(sentiment, 0) + 1\n",
    "    urgency_count[result.urgency_level] = urgency_count.get(result.urgency_level, 0) + 1\n",
    "    confidence_scores.append(result.confidence_score)\n",
    "\n",
    "print(f\"\\n📊 Batch Analysis Summary:\")\n",
    "print(f\"   • Average Confidence: {np.mean(confidence_scores):.3f}\")\n",
    "print(f\"   • Sentiment Distribution: {sentiments_count}\")\n",
    "print(f\"   • Urgency Distribution: {urgency_count}\")\n",
    "\n",
    "# ================================================================================================\n",
    "# VISUALIZATION 1: SENTIMENT DISTRIBUTION PIE CHART\n",
    "# ================================================================================================\n",
    "\n",
    "print(\"\\n\\n📊 CREATING VISUALIZATIONS\")\n",
    "print(\"-\" * 30)\n",
    "\n",
    "# Combine sentiment data\n",
    "sentiment_data = []\n",
    "for result in analysis_results:\n",
    "    sentiment_data.extend(result['sentiments'])\n",
    "for result in batch_results:\n",
    "    sentiment_data.extend(result.primary_sentiments)\n",
    "\n",
    "sentiment_counts = Counter(sentiment_data)\n",
    "\n",
    "# Create pie chart\n",
    "fig_pie = go.Figure(data=[go.Pie(\n",
    "    labels=list(sentiment_counts.keys()),\n",
    "    values=list(sentiment_counts.values()),\n",
    "    hole=0.3,\n",
    "    marker_colors=['#2E8B57', '#DC143C', '#708090', '#FF8C00', '#4169E1', '#B22222', '#FFD700'],\n",
    "    textinfo='label+percent',\n",
    "    textposition='outside'\n",
    ")])\n",
    "\n",
    "fig_pie.update_layout(\n",
    "    title=\"🎭 Sentiment Distribution Analysis\",\n",
    "    font=dict(size=14),\n",
    "    showlegend=True,\n",
    "    height=500\n",
    ")\n",
    "\n",
    "print(\"📈 Plot 1: Sentiment Distribution Pie Chart\")\n",
    "fig_pie.show()\n",
    "\n",
    "# ================================================================================================\n",
    "# VISUALIZATION 2: CONFIDENCE VS PROCESSING TIME SCATTER PLOT\n",
    "# ================================================================================================\n",
    "\n",
    "# Prepare data for scatter plot\n",
    "plot_data = []\n",
    "for result in analysis_results:\n",
    "    plot_data.append({\n",
    "        'confidence': result['confidence'],\n",
    "        'processing_time': result['processing_time'],\n",
    "        'urgency': result['urgency'],\n",
    "        'description': result['description'],\n",
    "        'toxicity': result['toxicity']\n",
    "    })\n",
    "\n",
    "# Add batch results\n",
    "for i, result in enumerate(batch_results):\n",
    "    plot_data.append({\n",
    "        'confidence': result.confidence_score,\n",
    "        'processing_time': batch_time / len(batch_results),\n",
    "        'urgency': result.urgency_level,\n",
    "        'description': f'Batch Review {i+1}',\n",
    "        'toxicity': result.toxicity_score\n",
    "    })\n",
    "\n",
    "df_plot = pd.DataFrame(plot_data)\n",
    "\n",
    "# Create scatter plot\n",
    "fig_scatter = px.scatter(\n",
    "    df_plot, \n",
    "    x='processing_time', \n",
    "    y='confidence',\n",
    "    color='urgency',\n",
    "    size='toxicity',\n",
    "    hover_data=['description'],\n",
    "    title=\"⚡ Processing Time vs Confidence Analysis\",\n",
    "    labels={\n",
    "        'processing_time': 'Processing Time (seconds)',\n",
    "        'confidence': 'Confidence Score',\n",
    "        'urgency': 'Urgency Level'\n",
    "    },\n",
    "    color_discrete_map={\n",
    "        'low': '#2E8B57',\n",
    "        'medium': '#FF8C00', \n",
    "        'high': '#DC143C',\n",
    "        'critical': '#8B0000'\n",
    "    }\n",
    ")\n",
    "\n",
    "fig_scatter.update_layout(height=500, showlegend=True)\n",
    "print(\"📈 Plot 2: Processing Time vs Confidence Scatter Plot\")\n",
    "fig_scatter.show()\n",
    "\n",
    "# ================================================================================================\n",
    "# VISUALIZATION 3: SYSTEM PERFORMANCE RADAR CHART\n",
    "# ================================================================================================\n",
    "\n",
    "# Calculate performance metrics\n",
    "all_confidence_scores = [r['confidence'] for r in analysis_results] + confidence_scores\n",
    "performance_metrics = {\n",
    "    'Processing Speed': min(100, (len(batch_reviews)/batch_time) * 10),  # Scaled to 0-100\n",
    "    'Average Confidence': np.mean(all_confidence_scores) * 100,\n",
    "    'High Confidence Rate': (sum(1 for c in all_confidence_scores if c > 0.8) / len(all_confidence_scores)) * 100,\n",
    "    'Low Toxicity Rate': (sum(1 for r in batch_results if r.toxicity_score < 0.2) / len(batch_results)) * 100,\n",
    "    'Success Rate': 100  # All processed successfully\n",
    "}\n",
    "\n",
    "# Create radar chart\n",
    "categories = list(performance_metrics.keys())\n",
    "values = list(performance_metrics.values())\n",
    "\n",
    "fig_radar = go.Figure()\n",
    "\n",
    "fig_radar.add_trace(go.Scatterpolar(\n",
    "    r=values,\n",
    "    theta=categories,\n",
    "    fill='toself',\n",
    "    name='System Performance',\n",
    "    line_color='rgb(46, 139, 87)'\n",
    "))\n",
    "\n",
    "fig_radar.update_layout(\n",
    "    polar=dict(radialaxis=dict(visible=True, range=[0, 100])),\n",
    "    showlegend=True,\n",
    "    title=\"📊 System Performance Dashboard\",\n",
    "    height=500\n",
    ")\n",
    "\n",
    "print(\"📈 Plot 3: System Performance Radar Chart\")\n",
    "fig_radar.show()\n",
    "\n",
    "# ================================================================================================\n",
    "# VISUALIZATION 4: EMOTION HEATMAP\n",
    "# ================================================================================================\n",
    "\n",
    "# Collect emotion data from individual reviews\n",
    "emotion_matrix = []\n",
    "emotion_labels = []\n",
    "\n",
    "for result in analysis_results:\n",
    "    if result['emotions']:\n",
    "        emotion_labels.append(result['description'])\n",
    "        emotion_values = []\n",
    "        all_emotions = ['joy', 'anger', 'sadness', 'fear', 'surprise', 'disgust', 'trust', 'anticipation']\n",
    "        for emotion in all_emotions:\n",
    "            emotion_values.append(result['emotions'].get(emotion, 0))\n",
    "        emotion_matrix.append(emotion_values)\n",
    "\n",
    "if emotion_matrix:\n",
    "    fig_heatmap = go.Figure(data=go.Heatmap(\n",
    "        z=emotion_matrix,\n",
    "        x=['Joy', 'Anger', 'Sadness', 'Fear', 'Surprise', 'Disgust', 'Trust', 'Anticipation'],\n",
    "        y=emotion_labels,\n",
    "        colorscale='RdYlBu_r',\n",
    "        zmid=0.5,\n",
    "        colorbar=dict(title=\"Emotion Intensity\")\n",
    "    ))\n",
    "\n",
    "    fig_heatmap.update_layout(\n",
    "        title=\"🎭 Emotion Analysis Heatmap\",\n",
    "        xaxis_title=\"Emotions\",\n",
    "        yaxis_title=\"Reviews\",\n",
    "        height=400\n",
    "    )\n",
    "\n",
    "    print(\"📈 Plot 4: Emotion Analysis Heatmap\")\n",
    "    fig_heatmap.show()\n",
    "\n",
    "# ================================================================================================\n",
    "# BUSINESS INSIGHTS AND ANALYTICS\n",
    "# ================================================================================================\n",
    "\n",
    "print(\"\\n\\n📊 BUSINESS INSIGHTS AND ANALYTICS\")\n",
    "print(\"-\" * 40)\n",
    "\n",
    "# Generate analytics\n",
    "analytics = analyzer.get_analytics_dashboard()\n",
    "\n",
    "print(\"📈 Key Business Metrics:\")\n",
    "print(f\"• Total Reviews Processed: {analytics.get('total_reviews_analyzed', len(analysis_results) + len(batch_results))}\")\n",
    "print(f\"• Average System Confidence: {np.mean(all_confidence_scores):.2%}\")\n",
    "print(f\"• Processing Speed: {len(batch_reviews)/batch_time:.1f} reviews/second\")\n",
    "print(f\"• Dominant Sentiment: {max(sentiment_counts.items(), key=lambda x: x[1])[0] if sentiment_counts else 'neutral'}\")\n",
    "\n",
    "# Sentiment breakdown with visual bars\n",
    "print(f\"\\n🎭 Sentiment Breakdown:\")\n",
    "total_sentiments = sum(sentiment_counts.values()) if sentiment_counts else 1\n",
    "for sentiment, count in sentiment_counts.items():\n",
    "    percentage = (count / total_sentiments) * 100\n",
    "    bar = \"█\" * int(percentage / 10)\n",
    "    print(f\"   {sentiment.title()}: {count} ({percentage:.1f}%) {bar}\")\n",
    "\n",
    "# ================================================================================================\n",
    "# EXPORT RESULTS\n",
    "# ================================================================================================\n",
    "\n",
    "print(\"\\n💾 EXPORTING RESULTS\")\n",
    "print(\"-\" * 20)\n",
    "\n",
    "# Export analysis results to CSV\n",
    "results_df = pd.DataFrame(analysis_results)\n",
    "export_path = r\"c:\\Users\\ahpuh\\Desktop\\hg\\sentiment_analysis_results.csv\"\n",
    "\n",
    "try:\n",
    "    results_df.to_csv(export_path, index=False)\n",
    "    print(f\"✅ Results exported to: {export_path}\")\n",
    "except Exception as e:\n",
    "    print(f\"⚠️ Export failed: {e}\")\n",
    "\n",
    "# Save plots as HTML\n",
    "plots_dir = r\"c:\\Users\\ahpuh\\Desktop\\hg\\sentiment_plots\"\n",
    "try:\n",
    "    import os\n",
    "    os.makedirs(plots_dir, exist_ok=True)\n",
    "    \n",
    "    fig_pie.write_html(f\"{plots_dir}/sentiment_distribution.html\")\n",
    "    fig_scatter.write_html(f\"{plots_dir}/performance_analysis.html\")\n",
    "    fig_radar.write_html(f\"{plots_dir}/system_dashboard.html\")\n",
    "    if 'fig_heatmap' in locals():\n",
    "        fig_heatmap.write_html(f\"{plots_dir}/emotion_heatmap.html\")\n",
    "    \n",
    "    print(f\"📊 Interactive plots saved to: {plots_dir}\")\n",
    "except Exception as e:\n",
    "    print(f\"⚠️ Plot export failed: {e}\")\n",
    "\n",
    "# ================================================================================================\n",
    "# SUMMARY AND USAGE GUIDE\n",
    "# ================================================================================================\n",
    "\n",
    "print(\"\\n\" + \"=\"*60)\n",
    "print(\"🎉 SENTIMENT ANALYSIS EXAMPLE COMPLETE!\")\n",
    "print(\"=\"*60)\n",
    "\n",
    "print(\"\\n✅ DEMONSTRATED FEATURES:\")\n",
    "features_demo = [\n",
    "    \"✓ Individual review analysis with detailed insights\",\n",
    "    \"✓ Batch processing for multiple reviews\", \n",
    "    \"✓ Interactive visualizations with Plotly\",\n",
    "    \"✓ Sentiment distribution analysis\",\n",
    "    \"✓ Performance monitoring and metrics\",\n",
    "    \"✓ Response generation for customer service\",\n",
    "    \"✓ Business intelligence reporting\",\n",
    "    \"✓ Data export to CSV and HTML plots\"\n",
    "]\n",
    "\n",
    "for feature in features_demo:\n",
    "    print(f\"   {feature}\")\n",
    "\n",
    "print(\"\\n🎯 USAGE SUMMARY:\")\n",
    "print(f\"   • Analyzed {len(sample_reviews)} individual reviews\")\n",
    "print(f\"   • Processed {len(batch_reviews)} reviews in batch\")\n",
    "print(f\"   • Average processing speed: {len(batch_reviews)/batch_time:.1f} reviews/second\")\n",
    "print(f\"   • System confidence: {np.mean(all_confidence_scores):.2%}\")\n",
    "print(f\"   • Generated {len([r for r in analysis_results if r['response_generated']])} automated responses\")\n",
    "\n",
    "print(\"\\n📁 GENERATED FILES:\")\n",
    "print(f\"   • CSV Results: sentiment_analysis_results.csv\")\n",
    "print(f\"   • Interactive Plots: sentiment_plots/ directory\")\n",
    "print(f\"   • HTML Visualizations: Ready for sharing and embedding\")\n",
    "\n",
    "print(\"\\n🚀 HOW TO USE THIS SYSTEM:\")\n",
    "usage_steps = [\n",
    "    \"1. Load your review data (CSV, JSON, or direct input)\",\n",
    "    \"2. Use analyzer.analyze_review(text, category) for single reviews\",\n",
    "    \"3. Use analyzer.analyze_batch() for multiple reviews\",\n",
    "    \"4. Generate responses with response_system.generate_contextual_response()\",\n",
    "    \"5. Create visualizations with the built-in plotting functions\",\n",
    "    \"6. Export results and share insights with stakeholders\"\n",
    "]\n",
    "\n",
    "for step in usage_steps:\n",
    "    print(f\"   {step}\")\n",
    "\n",
    "print(\"\\n\" + \"=\"*60)\n",
    "print(\"🌟 SYSTEM READY FOR PRODUCTION USE!\")\n",
    "print(\"📊 All visualizations created and data exported\")\n",
    "print(\"🔧 Optimized for real-world sentiment analysis tasks\")\n",
    "print(\"=\"*60)"
   ]
  }
 ],
 "metadata": {
  "kernelspec": {
   "display_name": "Python 3",
   "language": "python",
   "name": "python3"
  },
  "language_info": {
   "codemirror_mode": {
    "name": "ipython",
    "version": 3
   },
   "file_extension": ".py",
   "mimetype": "text/x-python",
   "name": "python",
   "nbconvert_exporter": "python",
   "pygments_lexer": "ipython3",
   "version": "3.10.11"
  }
 },
 "nbformat": 4,
 "nbformat_minor": 5
}
